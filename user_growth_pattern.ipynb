{
 "cells": [
  {
   "cell_type": "code",
   "execution_count": 1,
   "metadata": {
    "collapsed": true
   },
   "outputs": [],
   "source": [
    "from LocalDatabase import get_product_connection\n",
    "import pandas as pd\n",
    "import numpy as np\n",
    "import matplotlib.pyplot as plt\n",
    "from scipy.optimize import leastsq"
   ]
  },
  {
   "cell_type": "code",
   "execution_count": 55,
   "metadata": {
    "collapsed": true
   },
   "outputs": [],
   "source": [
    "with get_product_connection().cursor() as cur:\n",
    "    sql = \"select date_format(created_at, '%Y-%m'), count(*) from users where created_at > '2016-01-01' and \\\n",
    "    encrypt_mobile_v2 is not null and deleted_at is null group by date_format(created_at, '%Y-%m')\"\n",
    "    cur.execute(sql)\n",
    "    student_row = cur.fetchall()\n",
    "    sql = \"select date_format(first_large_buy_at, '%Y-%m'), count(*) from users where first_large_buy_at > '2016-01-01' \\\n",
    "     and deleted_at is null group by date_format(first_large_buy_at, '%Y-%m')\"\n",
    "    cur.execute(sql)\n",
    "    vip_row = cur.fetchall()2"
   ]
  },
  {
   "cell_type": "code",
   "execution_count": 56,
   "metadata": {
    "collapsed": true
   },
   "outputs": [],
   "source": [
    "student_row = np.array(student_row)\n",
    "student_data=student_row[:,1].astype(np.uint32)\n",
    "vip_row = np.array(vip_row)\n",
    "vip_data=vip_row[:,1].astype(np.uint32)"
   ]
  },
  {
   "cell_type": "code",
   "execution_count": 142,
   "metadata": {
    "collapsed": true
   },
   "outputs": [],
   "source": [
    "#check func\n",
    "def check_error(x, y, p0):\n",
    "    a = x[-1]\n",
    "    b = y[-1]\n",
    "    para, c = leastsq(cost_f, p0, args=(x[:-1],y[:-1]))\n",
    "    yb = insert_func(para, a)\n",
    "    print('compute: %f   actual: %f' % (yb, b))\n",
    "    print(yb-b)\n",
    "    print((yb-b)/b)"
   ]
  },
  {
   "cell_type": "code",
   "execution_count": 132,
   "metadata": {
    "collapsed": true
   },
   "outputs": [],
   "source": [
    "def func(p, x):\n",
    "    a,b = p\n",
    "    return a * np.exp(x * b)\n",
    "\n",
    "def func_logsitic(p, x):\n",
    "    c = 1e+6\n",
    "    a, b = p\n",
    "    return c / (1 + (c/a - 1) * np.exp(-b * x))\n",
    "\n",
    "p0 = [50,0.1]\n",
    "insert_func = func_logsitic\n",
    "def cost_f(p, x, y):\n",
    "    return insert_func(p, x) - y"
   ]
  },
  {
   "cell_type": "code",
   "execution_count": 133,
   "metadata": {},
   "outputs": [
    {
     "name": "stdout",
     "output_type": "stream",
     "text": [
      "[  2.11113489e+04   1.25082300e-01]\n",
      "1\n"
     ]
    }
   ],
   "source": [
    "Xi = np.array([i for i in range(len(student_data))])+ 1\n",
    "Yi = student_data.cumsum()\n",
    "para, cost = leastsq(cost_f, p0, args=(Xi,Yi))\n",
    "print(para)\n",
    "print(cost)"
   ]
  },
  {
   "cell_type": "code",
   "execution_count": 134,
   "metadata": {},
   "outputs": [
    {
     "data": {
      "image/png": "[encoded data removed]",
      "text/plain": [
       "<matplotlib.figure.Figure at 0x7fd34187e828>"
      ]
     },
     "metadata": {},
     "output_type": "display_data"
    }
   ],
   "source": [
    "plt.figure(figsize=(14,6), dpi=80)\n",
    "plt.xticks(rotation=90)\n",
    "plt.scatter(student_row[:,0], Yi)\n",
    "x=np.linspace(0,35,1000)\n",
    "y = np.array([ insert_func(para, i ) for i in x])\n",
    "plt.plot(x,y)\n",
    "plt.show()"
   ]
  },
  {
   "cell_type": "code",
   "execution_count": 135,
   "metadata": {},
   "outputs": [
    {
     "name": "stdout",
     "output_type": "stream",
     "text": [
      "-42768.8645822\n",
      "-0.0959750116851\n"
     ]
    }
   ],
   "source": [
    "check_error(Xi, Yi, p0)"
   ]
  },
  {
   "cell_type": "code",
   "execution_count": 67,
   "metadata": {},
   "outputs": [
    {
     "data": {
      "text/plain": [
       "array([ 1,  2,  3,  4,  5,  6,  7,  8,  9, 10, 11, 12, 13, 14, 15, 16, 17,\n",
       "       18, 19, 20, 21, 22, 23, 24, 25, 26, 27, 28, 29, 30])"
      ]
     },
     "execution_count": 67,
     "metadata": {},
     "output_type": "execute_result"
    }
   ],
   "source": [
    "Xi+1"
   ]
  },
  {
   "cell_type": "code",
   "execution_count": 70,
   "metadata": {},
   "outputs": [
    {
     "data": {
      "text/plain": [
       "array([   522,   1373,   3701,   8846,  13016,  19413,  29436,  38268,\n",
       "        45513,  54570,  73981,  88102,  94725, 101028, 117889, 127271,\n",
       "       159097, 194115, 227148, 247527, 254545, 258263, 277388, 317375,\n",
       "       354029, 366903, 381509, 391479, 429156, 445625], dtype=uint64)"
      ]
     },
     "execution_count": 70,
     "metadata": {},
     "output_type": "execute_result"
    }
   ],
   "source": [
    "Yi"
   ]
  },
  {
   "cell_type": "markdown",
   "metadata": {},
   "source": [
    "### VIP student count"
   ]
  },
  {
   "cell_type": "code",
   "execution_count": 136,
   "metadata": {
    "collapsed": true
   },
   "outputs": [],
   "source": [
    "def func_logsitic(p, x):\n",
    "    c = 1e+5\n",
    "    a, b = p\n",
    "    return c / (1 + (c/a - 1) * np.exp(-b * x))\n",
    "\n",
    "p0 = [50,0.1]\n",
    "insert_func = func_logsitic"
   ]
  },
  {
   "cell_type": "code",
   "execution_count": 139,
   "metadata": {},
   "outputs": [
    {
     "name": "stdout",
     "output_type": "stream",
     "text": [
      "[  1.35434246e+03   1.64430110e-01]\n",
      "1\n"
     ]
    }
   ],
   "source": [
    "p0 = para \n",
    "Xi = np.array([i for i in range(len(vip_data))]) + 1\n",
    "Yi = vip_data.cumsum()\n",
    "para, cost = leastsq(cost_f, p0, args=(Xi,Yi))\n",
    "print(para)\n",
    "print(cost)"
   ]
  },
  {
   "cell_type": "code",
   "execution_count": 141,
   "metadata": {},
   "outputs": [
    {
     "data": {
      "image/png": "[encoded data removed]",
      "text/plain": [
       "<matplotlib.figure.Figure at 0x7fd341ad3780>"
      ]
     },
     "metadata": {},
     "output_type": "display_data"
    }
   ],
   "source": [
    "plt.figure(figsize=(14,6), dpi=80)\n",
    "plt.xticks(rotation=90)\n",
    "plt.scatter(vip_row[:,0], Yi)\n",
    "y = np.array([ insert_func(para, i ) for i in x])\n",
    "plt.plot(x,y)\n",
    "plt.show()"
   ]
  },
  {
   "cell_type": "code",
   "execution_count": 143,
   "metadata": {},
   "outputs": [
    {
     "name": "stdout",
     "output_type": "stream",
     "text": [
      "compute: 66708.300883   actual: 60644.000000\n",
      "6064.30088285\n",
      "0.0999983655901\n"
     ]
    }
   ],
   "source": [
    "check_error(Xi, Yi, p0)"
   ]
  },
  {
   "cell_type": "markdown",
   "metadata": {},
   "source": [
    "### user consume"
   ]
  },
  {
   "cell_type": "code",
   "execution_count": 9,
   "metadata": {
    "collapsed": true
   },
   "outputs": [],
   "source": [
    "s = pd.read_pickle('day_consum_2016.pkl')"
   ]
  },
  {
   "cell_type": "code",
   "execution_count": 10,
   "metadata": {
    "collapsed": true
   },
   "outputs": [],
   "source": [
    "#pd.to_pickle(s, 'day_consum_2016.pkl')"
   ]
  },
  {
   "cell_type": "code",
   "execution_count": 11,
   "metadata": {
    "collapsed": true
   },
   "outputs": [],
   "source": [
    "user_consume = np.array(s.values, dtype='uint32')\n",
    "precent = 0.9 \n",
    "inx = int(np.ceil(len(user_consume) * precent))\n",
    "user_consume_train = user_consume[:inx]\n",
    "user_consume_test = user_consume[inx:]"
   ]
  },
  {
   "cell_type": "code",
   "execution_count": 12,
   "metadata": {},
   "outputs": [
    {
     "data": {
      "text/plain": [
       "822"
      ]
     },
     "execution_count": 12,
     "metadata": {},
     "output_type": "execute_result"
    }
   ],
   "source": [
    "inx"
   ]
  },
  {
   "cell_type": "code",
   "execution_count": 175,
   "metadata": {
    "collapsed": true
   },
   "outputs": [],
   "source": [
    "def func_logsitic(p, x):\n",
    "    # 极限数据 设置很关键\n",
    "    c = 1e+7\n",
    "    a, b = p\n",
    "    return c / (1 + (c/a - 1) * np.exp(-b * x))\n",
    "p0 = [50,0.1]\n",
    "insert_func = func_logsitic\n",
    "def cost_f(p, x, y):\n",
    "    return insert_func(p, x) - y"
   ]
  },
  {
   "cell_type": "code",
   "execution_count": 176,
   "metadata": {},
   "outputs": [
    {
     "name": "stdout",
     "output_type": "stream",
     "text": [
      "[  3.37805822e+04   6.37570651e-03]\n",
      "1\n"
     ]
    }
   ],
   "source": [
    "p0 = para\n",
    "Xi = np.array([i for i in range(len(user_consume_train))])\n",
    "Yi = user_consume_train.cumsum()\n",
    "para, cost = leastsq(cost_f, p0, args=(Xi,Yi))\n",
    "print(para)\n",
    "print(cost)"
   ]
  },
  {
   "cell_type": "code",
   "execution_count": 177,
   "metadata": {},
   "outputs": [
    {
     "data": {
      "image/png": "[encoded data removed]",
      "text/plain": [
       "<matplotlib.figure.Figure at 0x7fd341790eb8>"
      ]
     },
     "metadata": {},
     "output_type": "display_data"
    }
   ],
   "source": [
    "plt.scatter(Xi, Yi)\n",
    "x=np.linspace(0,900, 901)\n",
    "y = np.array([ insert_func(para, i) for i in x])\n",
    "plt.plot(x,y)\n",
    "plt.show()"
   ]
  }
 ],
 "metadata": {
  "kernelspec": {
   "display_name": "Python 3",
   "language": "python",
   "name": "python3"
  },
  "language_info": {
   "codemirror_mode": {
    "name": "ipython",
    "version": 3
   },
   "file_extension": ".py",
   "mimetype": "text/x-python",
   "name": "python",
   "nbconvert_exporter": "python",
   "pygments_lexer": "ipython3",
   "version": "3.7.1"
  }
 },
 "nbformat": 4,
 "nbformat_minor": 2
}
