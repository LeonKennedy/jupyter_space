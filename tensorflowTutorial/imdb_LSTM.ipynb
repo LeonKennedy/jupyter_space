{
 "cells": [
  {
   "cell_type": "code",
   "execution_count": 1,
   "metadata": {},
   "outputs": [],
   "source": [
    "import tensorflow as tf\n",
    "from tensorflow.keras import preprocessing\n",
    "import matplotlib.pyplot as plt\n",
    "from tensorflow.keras.datasets import imdb"
   ]
  },
  {
   "cell_type": "code",
   "execution_count": 2,
   "metadata": {},
   "outputs": [],
   "source": [
    "max_features = 10000\n",
    "maxlen = 500\n",
    "epoch = 32"
   ]
  },
  {
   "cell_type": "code",
   "execution_count": 3,
   "metadata": {},
   "outputs": [
    {
     "name": "stdout",
     "output_type": "stream",
     "text": [
      "Loading Data...\n",
      "25000 train sequences\n",
      "25000 test sequences\n",
      "Pad sequences (samples * times)\n",
      "x train shape: (25000, 500)\n",
      "x test shape: (25000, 500)\n"
     ]
    }
   ],
   "source": [
    "print('Loading Data...')\n",
    "(x_train, y_train), (x_test, y_test)  = imdb.load_data(num_words=max_features)\n",
    "print(len(x_train), 'train sequences')\n",
    "print(len(x_test), 'test sequences')\n",
    "print('Pad sequences (samples * times)')\n",
    "x_train = preprocessing.sequence.pad_sequences(x_train, maxlen=maxlen)\n",
    "x_test = preprocessing.sequence.pad_sequences(x_test, maxlen=maxlen)\n",
    "print('x train shape:', x_train.shape)\n",
    "print('x test shape:', x_test.shape)"
   ]
  },
  {
   "cell_type": "code",
   "execution_count": 5,
   "metadata": {},
   "outputs": [],
   "source": [
    "model = tf.keras.Sequential([\n",
    "    tf.keras.layers.Embedding(max_features, 32),\n",
    "    tf.keras.layers.LSTM(32),\n",
    "    tf.keras.layers.Dense(1, activation='sigmoid')\n",
    "])"
   ]
  },
  {
   "cell_type": "code",
   "execution_count": 6,
   "metadata": {},
   "outputs": [
    {
     "name": "stdout",
     "output_type": "stream",
     "text": [
      "Model: \"sequential\"\n",
      "_________________________________________________________________\n",
      "Layer (type)                 Output Shape              Param #   \n",
      "=================================================================\n",
      "embedding (Embedding)        (None, None, 32)          320000    \n",
      "_________________________________________________________________\n",
      "lstm (LSTM)                  (None, 32)                8320      \n",
      "_________________________________________________________________\n",
      "dense (Dense)                (None, 1)                 33        \n",
      "=================================================================\n",
      "Total params: 328,353\n",
      "Trainable params: 328,353\n",
      "Non-trainable params: 0\n",
      "_________________________________________________________________\n"
     ]
    }
   ],
   "source": [
    "model.summary()"
   ]
  },
  {
   "cell_type": "code",
   "execution_count": 8,
   "metadata": {},
   "outputs": [],
   "source": [
    "model.compile(optimizer='rmsprop',\n",
    "             loss = 'binary_crossentropy',\n",
    "             metrics=['acc'])"
   ]
  },
  {
   "cell_type": "code",
   "execution_count": 9,
   "metadata": {},
   "outputs": [
    {
     "name": "stdout",
     "output_type": "stream",
     "text": [
      "Train on 20000 samples, validate on 5000 samples\n",
      "Epoch 1/10\n",
      "20000/20000 [==============================] - 38s 2ms/sample - loss: 0.5086 - acc: 0.7600 - val_loss: 0.4006 - val_acc: 0.8204\n",
      "Epoch 2/10\n",
      "20000/20000 [==============================] - 36s 2ms/sample - loss: 0.2953 - acc: 0.8826 - val_loss: 0.2851 - val_acc: 0.8846\n",
      "Epoch 3/10\n",
      "20000/20000 [==============================] - 35s 2ms/sample - loss: 0.2355 - acc: 0.9110 - val_loss: 0.4693 - val_acc: 0.8330\n",
      "Epoch 4/10\n",
      "20000/20000 [==============================] - 35s 2ms/sample - loss: 0.1982 - acc: 0.9263 - val_loss: 0.3554 - val_acc: 0.8620\n",
      "Epoch 5/10\n",
      "20000/20000 [==============================] - 34s 2ms/sample - loss: 0.1728 - acc: 0.9387 - val_loss: 0.3034 - val_acc: 0.8710\n",
      "Epoch 6/10\n",
      "20000/20000 [==============================] - 34s 2ms/sample - loss: 0.1600 - acc: 0.9441 - val_loss: 0.3016 - val_acc: 0.8884\n",
      "Epoch 7/10\n",
      "20000/20000 [==============================] - 35s 2ms/sample - loss: 0.1424 - acc: 0.9503 - val_loss: 0.3213 - val_acc: 0.8890\n",
      "Epoch 8/10\n",
      "20000/20000 [==============================] - 35s 2ms/sample - loss: 0.1345 - acc: 0.9517 - val_loss: 0.3225 - val_acc: 0.8864\n",
      "Epoch 9/10\n",
      "20000/20000 [==============================] - 34s 2ms/sample - loss: 0.1182 - acc: 0.9600 - val_loss: 0.3345 - val_acc: 0.8826\n",
      "Epoch 10/10\n",
      "20000/20000 [==============================] - 34s 2ms/sample - loss: 0.1100 - acc: 0.9624 - val_loss: 0.3687 - val_acc: 0.8814\n"
     ]
    }
   ],
   "source": [
    "history = model.fit(x_train, y_train,\n",
    "                   epochs=10, \n",
    "                   batch_size = 128,\n",
    "                   validation_split=0.2)"
   ]
  },
  {
   "cell_type": "code",
   "execution_count": 10,
   "metadata": {},
   "outputs": [],
   "source": [
    "def show_history(history, epochs):\n",
    "    loss = history.history['loss']\n",
    "    val_loss = history.history['val_loss']\n",
    "    acc = history.history['acc']\n",
    "    val_acc = history.history['val_acc']\n",
    "\n",
    "    epochs_range = range(epochs)\n",
    "\n",
    "    plt.figure(figsize=(12, 8))\n",
    "    ax1 = plt.subplot(1, 2, 1)\n",
    "    ax1.plot(epochs_range, loss,'bo', label='Training Loss')\n",
    "    ax1.plot(epochs_range, val_loss,'r', label='Validation Loss')\n",
    "    ax1.legend(loc='upper right')\n",
    "    ax1.set_title('Training and Validation Loss')\n",
    "\n",
    "    ax2 = plt.subplot(1, 2, 2)\n",
    "    ax2.plot(epochs_range, acc, 'bo', label='Training acc')\n",
    "    ax2.plot(epochs_range, val_acc, 'r', label='Validation acc')\n",
    "    ax2.legend(loc='upper right')\n",
    "    ax2.set_title('Training and Validation Acc')\n",
    "    plt.show()"
   ]
  },
  {
   "cell_type": "code",
   "execution_count": 11,
   "metadata": {},
   "outputs": [
    {
     "data": {
      "image/png": "[encoded data removed]",
      "text/plain": [
       "<Figure size 864x576 with 2 Axes>"
      ]
     },
     "metadata": {
      "needs_background": "light"
     },
     "output_type": "display_data"
    }
   ],
   "source": [
    "show_history(history, 10)"
   ]
  },
  {
   "cell_type": "code",
   "execution_count": null,
   "metadata": {},
   "outputs": [],
   "source": []
  }
 ],
 "metadata": {
  "kernelspec": {
   "display_name": "Python 3",
   "language": "python",
   "name": "python3"
  },
  "language_info": {
   "codemirror_mode": {
    "name": "ipython",
    "version": 3
   },
   "file_extension": ".py",
   "mimetype": "text/x-python",
   "name": "python",
   "nbconvert_exporter": "python",
   "pygments_lexer": "ipython3",
   "version": "3.7.7"
  }
 },
 "nbformat": 4,
 "nbformat_minor": 4
}
