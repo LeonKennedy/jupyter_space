{
 "cells": [
  {
   "cell_type": "code",
   "execution_count": 35,
   "metadata": {},
   "outputs": [
    {
     "data": {
      "text/plain": [
       "7.3890560989306504"
      ]
     },
     "execution_count": 35,
     "metadata": {},
     "output_type": "execute_result"
    }
   ],
   "source": [
    "import numpy as np\n",
    "import matplotlib.pyplot as plt\n",
    "np.exp(2)"
   ]
  },
  {
   "cell_type": "code",
   "execution_count": 22,
   "metadata": {
    "collapsed": true
   },
   "outputs": [],
   "source": [
    "def exp_dis(x, c=879, total=301463):\n",
    "    return c * np.exp(x/(-c))\n",
    "def logax(x,a=0.5):\n",
    "    return np.log2(x)/np.log2(a)"
   ]
  },
  {
   "cell_type": "code",
   "execution_count": 23,
   "metadata": {},
   "outputs": [
    {
     "data": {
      "text/plain": [
       "[879.0,\n",
       " 878.00056861256485,\n",
       " 877.0022735881538,\n",
       " 876.00511363471128,\n",
       " 875.00908746165078,\n",
       " 874.01419377985314,\n",
       " 873.02043130166487,\n",
       " 872.02779874089686,\n",
       " 871.03629481282235,\n",
       " 870.04591823417479]"
      ]
     },
     "execution_count": 23,
     "metadata": {},
     "output_type": "execute_result"
    }
   ],
   "source": [
    "[ exp_dis(x) for x in range(10)]"
   ]
  },
  {
   "cell_type": "code",
   "execution_count": 24,
   "metadata": {},
   "outputs": [
    {
     "data": {
      "text/plain": [
       "-3.3219280948873622"
      ]
     },
     "execution_count": 24,
     "metadata": {},
     "output_type": "execute_result"
    }
   ],
   "source": [
    "logax(10)"
   ]
  },
  {
   "cell_type": "code",
   "execution_count": 55,
   "metadata": {},
   "outputs": [
    {
     "data": {
      "image/png": "[encoded data removed]",
      "text/plain": [
       "<matplotlib.figure.Figure at 0x115dfd438>"
      ]
     },
     "metadata": {},
     "output_type": "display_data"
    }
   ],
   "source": [
    "x = np.array(range(1,20))\n",
    "y = logax(x, 0.2) + 230\n",
    "plt.plot(x,logax(x, 0.85),  label= '0.85')\n",
    "plt.plot(x,logax(x, 0.5),  label= '0.5')\n",
    "plt.plot(x,logax(x, 0.1),  label= '0.1')\n",
    "plt.plot(x,logax(x, 0.01), label= '0.01')\n",
    "leg = plt.legend(loc='best', ncol=2, mode=\"expand\", shadow=True, fancybox=True)\n",
    "leg.get_frame().set_alpha(0.5)\n",
    "plt.show()"
   ]
  },
  {
   "cell_type": "code",
   "execution_count": 56,
   "metadata": {
    "collapsed": true
   },
   "outputs": [],
   "source": [
    "a = np.array([[  2.47023561,   2.50206854,   2.5764078 ,   2.64119719,\n",
    "          2.34589992,   2.36125463,   2.19216558],\n",
    "       [  3.25985736,   3.30186583,   3.39996797,   3.48546756,\n",
    "          3.09577721,   3.11604012,   2.89290101],\n",
    "       [  3.2038369 ,   3.24512346,   3.34153971,   3.42557   ,\n",
    "          3.04257646,   3.06249115,   2.84318667],\n",
    "       [  3.09446361,   3.13434072,   3.2274655 ,   3.30862714,\n",
    "          2.93870832,   2.95794316,   2.74612534],\n",
    "       [  2.79968928,   2.83576775,   2.92002159,   2.99345189,\n",
    "          2.65877102,   2.67617358,   2.48453323],\n",
    "       [ 21.50918976,  21.78637004,  22.43366752,  22.99781092,\n",
    "         20.4265562 ,  20.56025492,  19.08793849],\n",
    "       [ 28.55442977,  28.92239922,  29.78171613,  30.5306422 ,\n",
    "         27.11718436,  27.29467551,  25.34010835],\n",
    "       [ 30.22837453,  30.61791543,  31.52760803,  32.32043835,\n",
    "         28.70687356,  28.89476977,  26.82562012],\n",
    "       [ 26.60838562,  26.95127719,  27.75202985,  28.44991504,\n",
    "         25.2690915 ,  25.43448626,  23.61312693]])"
   ]
  },
  {
   "cell_type": "code",
   "execution_count": 57,
   "metadata": {},
   "outputs": [
    {
     "data": {
      "text/plain": [
       "(9, 7)"
      ]
     },
     "execution_count": 57,
     "metadata": {},
     "output_type": "execute_result"
    }
   ],
   "source": [
    "a.shape"
   ]
  },
  {
   "cell_type": "code",
   "execution_count": 59,
   "metadata": {},
   "outputs": [
    {
     "data": {
      "text/plain": [
       "array([[  3.,   3.,   3.,   3.,   3.,   3.,   3.],\n",
       "       [  4.,   4.,   4.,   4.,   4.,   4.,   3.],\n",
       "       [  4.,   4.,   4.,   4.,   4.,   4.,   3.],\n",
       "       [  4.,   4.,   4.,   4.,   3.,   3.,   3.],\n",
       "       [  3.,   3.,   3.,   3.,   3.,   3.,   3.],\n",
       "       [ 22.,  22.,  23.,  23.,  21.,  21.,  20.],\n",
       "       [ 29.,  29.,  30.,  31.,  28.,  28.,  26.],\n",
       "       [ 31.,  31.,  32.,  33.,  29.,  29.,  27.],\n",
       "       [ 27.,  27.,  28.,  29.,  26.,  26.,  24.]])"
      ]
     },
     "execution_count": 59,
     "metadata": {},
     "output_type": "execute_result"
    }
   ],
   "source": [
    "np.ceil(a)"
   ]
  },
  {
   "cell_type": "code",
   "execution_count": 60,
   "metadata": {},
   "outputs": [
    {
     "data": {
      "text/plain": [
       "array([[  2.,   2.,   2.,   2.,   2.,   2.,   2.],\n",
       "       [  3.,   3.,   3.,   3.,   3.,   3.,   2.],\n",
       "       [  3.,   3.,   3.,   3.,   3.,   3.,   2.],\n",
       "       [  3.,   3.,   3.,   3.,   2.,   2.,   2.],\n",
       "       [  2.,   2.,   2.,   2.,   2.,   2.,   2.],\n",
       "       [ 21.,  21.,  22.,  22.,  20.,  20.,  19.],\n",
       "       [ 28.,  28.,  29.,  30.,  27.,  27.,  25.],\n",
       "       [ 30.,  30.,  31.,  32.,  28.,  28.,  26.],\n",
       "       [ 26.,  26.,  27.,  28.,  25.,  25.,  23.]])"
      ]
     },
     "execution_count": 60,
     "metadata": {},
     "output_type": "execute_result"
    }
   ],
   "source": [
    "np.floor(a)"
   ]
  },
  {
   "cell_type": "code",
   "execution_count": null,
   "metadata": {
    "collapsed": true
   },
   "outputs": [],
   "source": []
  }
 ],
 "metadata": {
  "kernelspec": {
   "display_name": "Python 3",
   "language": "python",
   "name": "python3"
  },
  "language_info": {
   "codemirror_mode": {
    "name": "ipython",
    "version": 3
   },
   "file_extension": ".py",
   "mimetype": "text/x-python",
   "name": "python",
   "nbconvert_exporter": "python",
   "pygments_lexer": "ipython3",
   "version": "3.6.1"
  }
 },
 "nbformat": 4,
 "nbformat_minor": 2
}
