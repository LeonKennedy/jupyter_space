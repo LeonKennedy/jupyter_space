{
 "cells": [
  {
   "cell_type": "code",
   "execution_count": 1,
   "metadata": {},
   "outputs": [],
   "source": [
    "from connector import odps\n",
    "from odps.df import agg\n",
    "# from odps.inter import setup, enter, teardown\n",
    "import pandas as pd\n",
    "import matplotlib.pyplot as plt\n",
    "%matplotlib inline\n",
    "# %load_ext odps\n",
    "# setup('LTAItDVDpC9aEMXJ', 'U6iEFCZCzoPUbjou1FW45SQruxIfFt', 'Qkids_V2_dev')\n",
    "# room = enter()\n",
    "# odps = room.odps"
   ]
  },
  {
   "cell_type": "code",
   "execution_count": 2,
   "metadata": {},
   "outputs": [
    {
     "data": {
      "application/vnd.jupyter.widget-view+json": {
       "model_id": "ad17a63940b44eebb728e4fad1e41952",
       "version_major": 2,
       "version_minor": 0
      },
      "text/plain": [
       "TransientProgressBar(value=0.0)"
      ]
     },
     "metadata": {},
     "output_type": "display_data"
    },
    {
     "data": {
      "application/vnd.jupyter.widget-view+json": {
       "model_id": "f9cc9ebee1264740b6937e9f42185b22",
       "version_major": 2,
       "version_minor": 0
      },
      "text/plain": [
       "InstancesProgress()"
      ]
     },
     "metadata": {},
     "output_type": "display_data"
    },
    {
     "data": {
      "application/vnd.jupyter.widget-view+json": {
       "model_id": "2c8454cfd9254adbbb7845d0af26b3df",
       "version_major": 2,
       "version_minor": 0
      },
      "text/plain": [
       "HTMLNotifier()"
      ]
     },
     "metadata": {},
     "output_type": "display_data"
    },
    {
     "data": {
      "application/vnd.jupyter.widget-view+json": {
       "model_id": "8b60504200104deeaf48be98c91c7ac0",
       "version_major": 2,
       "version_minor": 0
      },
      "text/plain": [
       "TransientProgressBar(value=0.0)"
      ]
     },
     "metadata": {},
     "output_type": "display_data"
    },
    {
     "data": {
      "application/vnd.jupyter.widget-view+json": {
       "model_id": "d663564e97b74153ac6a543b08ad1a41",
       "version_major": 2,
       "version_minor": 0
      },
      "text/plain": [
       "InstancesProgress()"
      ]
     },
     "metadata": {},
     "output_type": "display_data"
    },
    {
     "data": {
      "application/vnd.jupyter.widget-view+json": {
       "model_id": "5b56fa38b9954184b354e644dd495760",
       "version_major": 2,
       "version_minor": 0
      },
      "text/plain": [
       "HTMLNotifier()"
      ]
     },
     "metadata": {},
     "output_type": "display_data"
    },
    {
     "data": {
      "text/html": [
       "<div>\n",
       "<style scoped>\n",
       "    .dataframe tbody tr th:only-of-type {\n",
       "        vertical-align: middle;\n",
       "    }\n",
       "\n",
       "    .dataframe tbody tr th {\n",
       "        vertical-align: top;\n",
       "    }\n",
       "\n",
       "    .dataframe thead th {\n",
       "        text-align: right;\n",
       "    }\n",
       "</style>\n",
       "<table border=\"1\" class=\"dataframe\">\n",
       "  <thead>\n",
       "    <tr style=\"text-align: right;\">\n",
       "      <th></th>\n",
       "      <th>lesson_id</th>\n",
       "      <th>category</th>\n",
       "      <th>avg_score</th>\n",
       "      <th>std</th>\n",
       "      <th>stds</th>\n",
       "    </tr>\n",
       "  </thead>\n",
       "  <tbody>\n",
       "    <tr>\n",
       "      <th>0</th>\n",
       "      <td>1</td>\n",
       "      <td>grammar</td>\n",
       "      <td>92.21</td>\n",
       "      <td>14.217520</td>\n",
       "      <td>14.217574</td>\n",
       "    </tr>\n",
       "    <tr>\n",
       "      <th>1</th>\n",
       "      <td>1</td>\n",
       "      <td>listening</td>\n",
       "      <td>93.50</td>\n",
       "      <td>12.100718</td>\n",
       "      <td>12.100755</td>\n",
       "    </tr>\n",
       "    <tr>\n",
       "      <th>2</th>\n",
       "      <td>1</td>\n",
       "      <td>pronunciation</td>\n",
       "      <td>81.21</td>\n",
       "      <td>25.048571</td>\n",
       "      <td>25.048644</td>\n",
       "    </tr>\n",
       "    <tr>\n",
       "      <th>3</th>\n",
       "      <td>1</td>\n",
       "      <td>reading</td>\n",
       "      <td>93.64</td>\n",
       "      <td>13.973830</td>\n",
       "      <td>13.973883</td>\n",
       "    </tr>\n",
       "    <tr>\n",
       "      <th>4</th>\n",
       "      <td>1</td>\n",
       "      <td>sightwords</td>\n",
       "      <td>96.00</td>\n",
       "      <td>8.000000</td>\n",
       "      <td>8.944272</td>\n",
       "    </tr>\n",
       "    <tr>\n",
       "      <th>5</th>\n",
       "      <td>1</td>\n",
       "      <td>spelling</td>\n",
       "      <td>79.21</td>\n",
       "      <td>23.153419</td>\n",
       "      <td>23.153591</td>\n",
       "    </tr>\n",
       "    <tr>\n",
       "      <th>6</th>\n",
       "      <td>1</td>\n",
       "      <td>vocabulary</td>\n",
       "      <td>95.07</td>\n",
       "      <td>10.813059</td>\n",
       "      <td>10.813092</td>\n",
       "    </tr>\n",
       "    <tr>\n",
       "      <th>7</th>\n",
       "      <td>2</td>\n",
       "      <td>grammar</td>\n",
       "      <td>97.63</td>\n",
       "      <td>9.075446</td>\n",
       "      <td>9.075480</td>\n",
       "    </tr>\n",
       "    <tr>\n",
       "      <th>8</th>\n",
       "      <td>2</td>\n",
       "      <td>listening</td>\n",
       "      <td>94.19</td>\n",
       "      <td>11.477056</td>\n",
       "      <td>11.477097</td>\n",
       "    </tr>\n",
       "    <tr>\n",
       "      <th>9</th>\n",
       "      <td>2</td>\n",
       "      <td>pronunciation</td>\n",
       "      <td>80.92</td>\n",
       "      <td>26.452735</td>\n",
       "      <td>26.452828</td>\n",
       "    </tr>\n",
       "  </tbody>\n",
       "</table>\n",
       "</div>"
      ],
      "text/plain": [
       "   lesson_id       category  avg_score        std       stds\n",
       "0          1        grammar      92.21  14.217520  14.217574\n",
       "1          1      listening      93.50  12.100718  12.100755\n",
       "2          1  pronunciation      81.21  25.048571  25.048644\n",
       "3          1        reading      93.64  13.973830  13.973883\n",
       "4          1     sightwords      96.00   8.000000   8.944272\n",
       "5          1       spelling      79.21  23.153419  23.153591\n",
       "6          1     vocabulary      95.07  10.813059  10.813092\n",
       "7          2        grammar      97.63   9.075446   9.075480\n",
       "8          2      listening      94.19  11.477056  11.477097\n",
       "9          2  pronunciation      80.92  26.452735  26.452828"
      ]
     },
     "execution_count": 2,
     "metadata": {},
     "output_type": "execute_result"
    }
   ],
   "source": [
    "data = odps.get_table(\"qkids_v2_dev.dwd_student_process_test_synthetic\").to_df()\n",
    "users = data.user_id.unique().to_pandas()\n",
    "df = odps.get_table(\"qkids_v2_dev.dws_stduent_process_test_synthetic_mean_by_lesson_category\").to_df().to_pandas()\n",
    "df.head(10)"
   ]
  },
  {
   "cell_type": "code",
   "execution_count": 22,
   "metadata": {},
   "outputs": [
    {
     "data": {
      "text/plain": [
       "<matplotlib.collections.PathCollection at 0x7f29c8318a20>"
      ]
     },
     "execution_count": 22,
     "metadata": {},
     "output_type": "execute_result"
    },
    {
     "data": {
      "image/png": "[encoded data removed]",
      "text/plain": [
       "<Figure size 1296x864 with 1 Axes>"
      ]
     },
     "metadata": {
      "needs_background": "light"
     },
     "output_type": "display_data"
    }
   ],
   "source": [
    "category = \"vocabulary\"\n",
    "cat_df = df.loc[df.category == category]\n",
    "f = plt.figure(figsize=(18,12))\n",
    "plt.scatter(cat_df.lesson_id, cat_df.avg_score)"
   ]
  },
  {
   "cell_type": "code",
   "execution_count": 11,
   "metadata": {},
   "outputs": [],
   "source": [
    "def trim_axs(axs, N):\n",
    "    \"\"\"little helper to massage the axs list to have correct length...\"\"\"\n",
    "    axs = axs.flat\n",
    "    for ax in axs[N:]:\n",
    "        ax.remove()\n",
    "    return axs[:N]\n",
    "category = \"vocabulary\"\n",
    "lessons = list(range(1,121))\n",
    "def hist_33(users, data, mean_df):\n",
    "    fig1, axs = plt.subplots(3, 3, figsize=(12,12), constrained_layout=True)\n",
    "    axs = trim_axs(axs, 9)\n",
    "    for ax, user_id in zip(axs, users.sample(n=9)):\n",
    "        ax.set_title('user_id=%s' % str(user_id))\n",
    "        user = data[(data.user_id==user_id) & (data.category == category) & (data.lesson_id.isin(lessons))].to_pandas()\n",
    "        mean_df = df.loc[(df.category==category) & (df.lesson_id.isin(lessons))]\n",
    "        ax.hist(user.lesson_id, (user.val - mean_df.avg_score)/mean_df['std'])"
   ]
  },
  {
   "cell_type": "code",
   "execution_count": null,
   "metadata": {},
   "outputs": [],
   "source": []
  },
  {
   "cell_type": "code",
   "execution_count": 12,
   "metadata": {},
   "outputs": [
    {
     "data": {
      "application/vnd.jupyter.widget-view+json": {
       "model_id": "cec9a8d12ac3447faec71f377d583381",
       "version_major": 2,
       "version_minor": 0
      },
      "text/plain": [
       "TransientProgressBar(value=0.0)"
      ]
     },
     "metadata": {},
     "output_type": "display_data"
    },
    {
     "data": {
      "application/vnd.jupyter.widget-view+json": {
       "model_id": "ee804afd48a444c7bd424f0ceb7070d8",
       "version_major": 2,
       "version_minor": 0
      },
      "text/plain": [
       "InstancesProgress()"
      ]
     },
     "metadata": {},
     "output_type": "display_data"
    },
    {
     "data": {
      "application/vnd.jupyter.widget-view+json": {
       "model_id": "7121aaadb3c241eb84b477ce1f6c7b23",
       "version_major": 2,
       "version_minor": 0
      },
      "text/plain": [
       "HTMLNotifier()"
      ]
     },
     "metadata": {},
     "output_type": "display_data"
    },
    {
     "name": "stderr",
     "output_type": "stream",
     "text": [
      "/root/anaconda3/lib/python3.7/site-packages/numpy/lib/histograms.py:367: RuntimeWarning: invalid value encountered in greater\n",
      "  if np.any(bin_edges[:-1] > bin_edges[1:]):\n"
     ]
    },
    {
     "data": {
      "application/vnd.jupyter.widget-view+json": {
       "model_id": "28b318eac0504f1d9660246e497986b4",
       "version_major": 2,
       "version_minor": 0
      },
      "text/plain": [
       "TransientProgressBar(value=0.0)"
      ]
     },
     "metadata": {},
     "output_type": "display_data"
    },
    {
     "data": {
      "application/vnd.jupyter.widget-view+json": {
       "model_id": "fde46af3dee5433b9043c1ef64eb9020",
       "version_major": 2,
       "version_minor": 0
      },
      "text/plain": [
       "InstancesProgress()"
      ]
     },
     "metadata": {},
     "output_type": "display_data"
    },
    {
     "data": {
      "application/vnd.jupyter.widget-view+json": {
       "model_id": "9b4f1f08041641e8b8bd61d157f47fd4",
       "version_major": 2,
       "version_minor": 0
      },
      "text/plain": [
       "HTMLNotifier()"
      ]
     },
     "metadata": {},
     "output_type": "display_data"
    },
    {
     "data": {
      "application/vnd.jupyter.widget-view+json": {
       "model_id": "884cf30b8bd14c51b40596aa413eb5a3",
       "version_major": 2,
       "version_minor": 0
      },
      "text/plain": [
       "TransientProgressBar(value=0.0)"
      ]
     },
     "metadata": {},
     "output_type": "display_data"
    },
    {
     "data": {
      "application/vnd.jupyter.widget-view+json": {
       "model_id": "fe1d215640ea436aa2a06eb3f44b9391",
       "version_major": 2,
       "version_minor": 0
      },
      "text/plain": [
       "InstancesProgress()"
      ]
     },
     "metadata": {},
     "output_type": "display_data"
    },
    {
     "data": {
      "application/vnd.jupyter.widget-view+json": {
       "model_id": "3e4321d634b046918381e0325e7cd5e7",
       "version_major": 2,
       "version_minor": 0
      },
      "text/plain": [
       "HTMLNotifier()"
      ]
     },
     "metadata": {},
     "output_type": "display_data"
    },
    {
     "data": {
      "application/vnd.jupyter.widget-view+json": {
       "model_id": "1e87cb634615496184861ce8275755e7",
       "version_major": 2,
       "version_minor": 0
      },
      "text/plain": [
       "TransientProgressBar(value=0.0)"
      ]
     },
     "metadata": {},
     "output_type": "display_data"
    },
    {
     "data": {
      "application/vnd.jupyter.widget-view+json": {
       "model_id": "574fd93650e54cc5a9b0058355cc0316",
       "version_major": 2,
       "version_minor": 0
      },
      "text/plain": [
       "InstancesProgress()"
      ]
     },
     "metadata": {},
     "output_type": "display_data"
    },
    {
     "data": {
      "application/vnd.jupyter.widget-view+json": {
       "model_id": "98dadc23904b44729eea726806ffb20d",
       "version_major": 2,
       "version_minor": 0
      },
      "text/plain": [
       "HTMLNotifier()"
      ]
     },
     "metadata": {},
     "output_type": "display_data"
    },
    {
     "data": {
      "application/vnd.jupyter.widget-view+json": {
       "model_id": "3834112a507a47529465fd234ce76e0f",
       "version_major": 2,
       "version_minor": 0
      },
      "text/plain": [
       "TransientProgressBar(value=0.0)"
      ]
     },
     "metadata": {},
     "output_type": "display_data"
    },
    {
     "data": {
      "application/vnd.jupyter.widget-view+json": {
       "model_id": "4470c1ff6fd2486dab5b10ca85b401c9",
       "version_major": 2,
       "version_minor": 0
      },
      "text/plain": [
       "InstancesProgress()"
      ]
     },
     "metadata": {},
     "output_type": "display_data"
    },
    {
     "data": {
      "application/vnd.jupyter.widget-view+json": {
       "model_id": "5d60e68a6c0547e885e48166b3b2f9be",
       "version_major": 2,
       "version_minor": 0
      },
      "text/plain": [
       "HTMLNotifier()"
      ]
     },
     "metadata": {},
     "output_type": "display_data"
    },
    {
     "data": {
      "application/vnd.jupyter.widget-view+json": {
       "model_id": "5bc03cc871da44ea98712a2a6279b285",
       "version_major": 2,
       "version_minor": 0
      },
      "text/plain": [
       "TransientProgressBar(value=0.0)"
      ]
     },
     "metadata": {},
     "output_type": "display_data"
    },
    {
     "data": {
      "application/vnd.jupyter.widget-view+json": {
       "model_id": "5837a26b37224f5ba7c419423dfae1d4",
       "version_major": 2,
       "version_minor": 0
      },
      "text/plain": [
       "InstancesProgress()"
      ]
     },
     "metadata": {},
     "output_type": "display_data"
    },
    {
     "data": {
      "application/vnd.jupyter.widget-view+json": {
       "model_id": "8e6ea89a93bf4e1a9c1aede0ce7766ea",
       "version_major": 2,
       "version_minor": 0
      },
      "text/plain": [
       "HTMLNotifier()"
      ]
     },
     "metadata": {},
     "output_type": "display_data"
    },
    {
     "data": {
      "application/vnd.jupyter.widget-view+json": {
       "model_id": "6dc2ea84b5df44e5b0b04b00576306ec",
       "version_major": 2,
       "version_minor": 0
      },
      "text/plain": [
       "TransientProgressBar(value=0.0)"
      ]
     },
     "metadata": {},
     "output_type": "display_data"
    },
    {
     "data": {
      "application/vnd.jupyter.widget-view+json": {
       "model_id": "1a6ea5ef88424251bba3128151e96510",
       "version_major": 2,
       "version_minor": 0
      },
      "text/plain": [
       "InstancesProgress()"
      ]
     },
     "metadata": {},
     "output_type": "display_data"
    },
    {
     "data": {
      "application/vnd.jupyter.widget-view+json": {
       "model_id": "f423cfde0fe24d359b28dbcb8235225d",
       "version_major": 2,
       "version_minor": 0
      },
      "text/plain": [
       "HTMLNotifier()"
      ]
     },
     "metadata": {},
     "output_type": "display_data"
    },
    {
     "data": {
      "application/vnd.jupyter.widget-view+json": {
       "model_id": "8e8e573d6f414060a8f9b3bc3378c9f3",
       "version_major": 2,
       "version_minor": 0
      },
      "text/plain": [
       "TransientProgressBar(value=0.0)"
      ]
     },
     "metadata": {},
     "output_type": "display_data"
    },
    {
     "data": {
      "application/vnd.jupyter.widget-view+json": {
       "model_id": "30f66eabf9c8458da05c92d025e1c8e5",
       "version_major": 2,
       "version_minor": 0
      },
      "text/plain": [
       "InstancesProgress()"
      ]
     },
     "metadata": {},
     "output_type": "display_data"
    },
    {
     "data": {
      "application/vnd.jupyter.widget-view+json": {
       "model_id": "602f7c60ad764474951f7842bf8f3e4d",
       "version_major": 2,
       "version_minor": 0
      },
      "text/plain": [
       "HTMLNotifier()"
      ]
     },
     "metadata": {},
     "output_type": "display_data"
    },
    {
     "data": {
      "application/vnd.jupyter.widget-view+json": {
       "model_id": "54f2bba9a698424e80cf5f1495ce693e",
       "version_major": 2,
       "version_minor": 0
      },
      "text/plain": [
       "TransientProgressBar(value=0.0)"
      ]
     },
     "metadata": {},
     "output_type": "display_data"
    },
    {
     "data": {
      "application/vnd.jupyter.widget-view+json": {
       "model_id": "be58aa2047ea4cb793f186c64ce3a488",
       "version_major": 2,
       "version_minor": 0
      },
      "text/plain": [
       "InstancesProgress()"
      ]
     },
     "metadata": {},
     "output_type": "display_data"
    },
    {
     "data": {
      "application/vnd.jupyter.widget-view+json": {
       "model_id": "a3977a174ddf4af9ae66c57dcc1f0480",
       "version_major": 2,
       "version_minor": 0
      },
      "text/plain": [
       "HTMLNotifier()"
      ]
     },
     "metadata": {},
     "output_type": "display_data"
    },
    {
     "data": {
      "image/png": "[encoded data removed]",
      "text/plain": [
       "<Figure size 864x864 with 9 Axes>"
      ]
     },
     "metadata": {
      "needs_background": "light"
     },
     "output_type": "display_data"
    }
   ],
   "source": [
    "category = \"vocabulary\"\n",
    "lessons = list(range(1,121))\n",
    "hist_33(users, data, df, category, lessons)"
   ]
  },
  {
   "cell_type": "code",
   "execution_count": 8,
   "metadata": {},
   "outputs": [
    {
     "data": {
      "application/vnd.jupyter.widget-view+json": {
       "model_id": "e4ccee83426f4343b83305d65c5c4845",
       "version_major": 2,
       "version_minor": 0
      },
      "text/plain": [
       "TransientProgressBar(value=0.0)"
      ]
     },
     "metadata": {},
     "output_type": "display_data"
    },
    {
     "data": {
      "application/vnd.jupyter.widget-view+json": {
       "model_id": "5dbf4573863a47ea93172f6a5d8c324c",
       "version_major": 2,
       "version_minor": 0
      },
      "text/plain": [
       "InstancesProgress()"
      ]
     },
     "metadata": {},
     "output_type": "display_data"
    },
    {
     "data": {
      "application/vnd.jupyter.widget-view+json": {
       "model_id": "2a4c38e369bb474cab151135ffd769b4",
       "version_major": 2,
       "version_minor": 0
      },
      "text/plain": [
       "HTMLNotifier()"
      ]
     },
     "metadata": {},
     "output_type": "display_data"
    },
    {
     "data": {
      "application/vnd.jupyter.widget-view+json": {
       "model_id": "5f800335aad649aebfd05b3c711b6959",
       "version_major": 2,
       "version_minor": 0
      },
      "text/plain": [
       "TransientProgressBar(value=0.0)"
      ]
     },
     "metadata": {},
     "output_type": "display_data"
    },
    {
     "data": {
      "application/vnd.jupyter.widget-view+json": {
       "model_id": "df3236e26d754fcd8e03bcbc572c35e0",
       "version_major": 2,
       "version_minor": 0
      },
      "text/plain": [
       "InstancesProgress()"
      ]
     },
     "metadata": {},
     "output_type": "display_data"
    },
    {
     "data": {
      "application/vnd.jupyter.widget-view+json": {
       "model_id": "a931770b4c5243b2b005233c24ad0a5b",
       "version_major": 2,
       "version_minor": 0
      },
      "text/plain": [
       "HTMLNotifier()"
      ]
     },
     "metadata": {},
     "output_type": "display_data"
    },
    {
     "data": {
      "application/vnd.jupyter.widget-view+json": {
       "model_id": "00c9674ccfc143519a046b2913faaf8b",
       "version_major": 2,
       "version_minor": 0
      },
      "text/plain": [
       "TransientProgressBar(value=0.0)"
      ]
     },
     "metadata": {},
     "output_type": "display_data"
    },
    {
     "data": {
      "application/vnd.jupyter.widget-view+json": {
       "model_id": "d601ce53ec2c430f80130693483556c7",
       "version_major": 2,
       "version_minor": 0
      },
      "text/plain": [
       "InstancesProgress()"
      ]
     },
     "metadata": {},
     "output_type": "display_data"
    },
    {
     "data": {
      "application/vnd.jupyter.widget-view+json": {
       "model_id": "b2b526c472de4cdfa77e5aff0b22ab45",
       "version_major": 2,
       "version_minor": 0
      },
      "text/plain": [
       "HTMLNotifier()"
      ]
     },
     "metadata": {},
     "output_type": "display_data"
    },
    {
     "data": {
      "application/vnd.jupyter.widget-view+json": {
       "model_id": "3288bed77f3b423da91ae507ecc63d7e",
       "version_major": 2,
       "version_minor": 0
      },
      "text/plain": [
       "TransientProgressBar(value=0.0)"
      ]
     },
     "metadata": {},
     "output_type": "display_data"
    },
    {
     "data": {
      "application/vnd.jupyter.widget-view+json": {
       "model_id": "5302a033e2d54b01b2a438b632afcff9",
       "version_major": 2,
       "version_minor": 0
      },
      "text/plain": [
       "InstancesProgress()"
      ]
     },
     "metadata": {},
     "output_type": "display_data"
    },
    {
     "data": {
      "application/vnd.jupyter.widget-view+json": {
       "model_id": "f43d49698da84da7977c0cead3c8cef8",
       "version_major": 2,
       "version_minor": 0
      },
      "text/plain": [
       "HTMLNotifier()"
      ]
     },
     "metadata": {},
     "output_type": "display_data"
    },
    {
     "data": {
      "application/vnd.jupyter.widget-view+json": {
       "model_id": "650b82bd18934ae1bb84b4d159f5b04f",
       "version_major": 2,
       "version_minor": 0
      },
      "text/plain": [
       "TransientProgressBar(value=0.0)"
      ]
     },
     "metadata": {},
     "output_type": "display_data"
    },
    {
     "data": {
      "application/vnd.jupyter.widget-view+json": {
       "model_id": "aa9d7c16e4b44d4e82488e92f53e0aa4",
       "version_major": 2,
       "version_minor": 0
      },
      "text/plain": [
       "InstancesProgress()"
      ]
     },
     "metadata": {},
     "output_type": "display_data"
    },
    {
     "data": {
      "application/vnd.jupyter.widget-view+json": {
       "model_id": "7ce87a633fd84e3fba5d3ff8408b987a",
       "version_major": 2,
       "version_minor": 0
      },
      "text/plain": [
       "HTMLNotifier()"
      ]
     },
     "metadata": {},
     "output_type": "display_data"
    },
    {
     "data": {
      "application/vnd.jupyter.widget-view+json": {
       "model_id": "fe432c7a804843e9be6a9fb3df27c196",
       "version_major": 2,
       "version_minor": 0
      },
      "text/plain": [
       "TransientProgressBar(value=0.0)"
      ]
     },
     "metadata": {},
     "output_type": "display_data"
    },
    {
     "data": {
      "application/vnd.jupyter.widget-view+json": {
       "model_id": "c8fa826db7dd42e593591f3f9120ba2a",
       "version_major": 2,
       "version_minor": 0
      },
      "text/plain": [
       "InstancesProgress()"
      ]
     },
     "metadata": {},
     "output_type": "display_data"
    },
    {
     "data": {
      "application/vnd.jupyter.widget-view+json": {
       "model_id": "4711d8a9c2714ab3ae81f27cf184d05a",
       "version_major": 2,
       "version_minor": 0
      },
      "text/plain": [
       "HTMLNotifier()"
      ]
     },
     "metadata": {},
     "output_type": "display_data"
    },
    {
     "data": {
      "application/vnd.jupyter.widget-view+json": {
       "model_id": "bab5e967dfa74fc29d5af26c3f7d12db",
       "version_major": 2,
       "version_minor": 0
      },
      "text/plain": [
       "TransientProgressBar(value=0.0)"
      ]
     },
     "metadata": {},
     "output_type": "display_data"
    },
    {
     "data": {
      "application/vnd.jupyter.widget-view+json": {
       "model_id": "848b76ddae9c40779dd387b8d35cf3fb",
       "version_major": 2,
       "version_minor": 0
      },
      "text/plain": [
       "InstancesProgress()"
      ]
     },
     "metadata": {},
     "output_type": "display_data"
    },
    {
     "data": {
      "application/vnd.jupyter.widget-view+json": {
       "model_id": "d0e53864a3964616833f25d256b22722",
       "version_major": 2,
       "version_minor": 0
      },
      "text/plain": [
       "HTMLNotifier()"
      ]
     },
     "metadata": {},
     "output_type": "display_data"
    },
    {
     "data": {
      "application/vnd.jupyter.widget-view+json": {
       "model_id": "b39cf5eb36f74ec991f3f1eb3f539b58",
       "version_major": 2,
       "version_minor": 0
      },
      "text/plain": [
       "TransientProgressBar(value=0.0)"
      ]
     },
     "metadata": {},
     "output_type": "display_data"
    },
    {
     "data": {
      "application/vnd.jupyter.widget-view+json": {
       "model_id": "5e12ce0f0f7b410891502c4cade02a84",
       "version_major": 2,
       "version_minor": 0
      },
      "text/plain": [
       "InstancesProgress()"
      ]
     },
     "metadata": {},
     "output_type": "display_data"
    },
    {
     "data": {
      "application/vnd.jupyter.widget-view+json": {
       "model_id": "4ace99795bab43ad96a4d7b5161aee50",
       "version_major": 2,
       "version_minor": 0
      },
      "text/plain": [
       "HTMLNotifier()"
      ]
     },
     "metadata": {},
     "output_type": "display_data"
    },
    {
     "data": {
      "application/vnd.jupyter.widget-view+json": {
       "model_id": "f06586e3ccce41ccb32b6657965ded77",
       "version_major": 2,
       "version_minor": 0
      },
      "text/plain": [
       "TransientProgressBar(value=0.0)"
      ]
     },
     "metadata": {},
     "output_type": "display_data"
    },
    {
     "data": {
      "application/vnd.jupyter.widget-view+json": {
       "model_id": "906d3125f70a48758ea8102926cb8888",
       "version_major": 2,
       "version_minor": 0
      },
      "text/plain": [
       "InstancesProgress()"
      ]
     },
     "metadata": {},
     "output_type": "display_data"
    },
    {
     "data": {
      "application/vnd.jupyter.widget-view+json": {
       "model_id": "22a5ee542c3b4f70bb4cbf60793039a8",
       "version_major": 2,
       "version_minor": 0
      },
      "text/plain": [
       "HTMLNotifier()"
      ]
     },
     "metadata": {},
     "output_type": "display_data"
    },
    {
     "data": {
      "image/png": "[encoded data removed]",
      "text/plain": [
       "<Figure size 864x864 with 9 Axes>"
      ]
     },
     "metadata": {
      "needs_background": "light"
     },
     "output_type": "display_data"
    }
   ],
   "source": [
    "category = \"vocabulary\"\n",
    "lessons = list(range(1,121))\n",
    "fig1, axs = plt.subplots(3, 3, figsize=(12,12), constrained_layout=True)\n",
    "axs = trim_axs(axs, 9)\n",
    "for ax, user_id in zip(axs, users.sample(n=9)):\n",
    "    ax.set_ylim(50,100)\n",
    "    ax.set_title('user_id=%s' % str(user_id))\n",
    "    user = data[(data.user_id==user_id) & (data.category == category) & (data.lesson_id.isin(lessons))]\n",
    "    user = user.to_pandas()\n",
    "    mean_df = df.loc[(df.category==category) & (df.lesson_id.isin(lessons))]\n",
    "    ax.plot(user.lesson_id, user.val , 'bs', mean_df.lesson_id, mean_df.avg_score, 'g^')"
   ]
  },
  {
   "cell_type": "code",
   "execution_count": 10,
   "metadata": {},
   "outputs": [
    {
     "data": {
      "application/vnd.jupyter.widget-view+json": {
       "model_id": "573e19a26e5c42efa8910a76de6fbe21",
       "version_major": 2,
       "version_minor": 0
      },
      "text/plain": [
       "TransientProgressBar(value=0.0)"
      ]
     },
     "metadata": {},
     "output_type": "display_data"
    },
    {
     "data": {
      "application/vnd.jupyter.widget-view+json": {
       "model_id": "d302872b699e4b31b20212d4ba1a55dd",
       "version_major": 2,
       "version_minor": 0
      },
      "text/plain": [
       "InstancesProgress()"
      ]
     },
     "metadata": {},
     "output_type": "display_data"
    },
    {
     "data": {
      "application/vnd.jupyter.widget-view+json": {
       "model_id": "fba2895effe44dee8999400d52429454",
       "version_major": 2,
       "version_minor": 0
      },
      "text/plain": [
       "HTMLNotifier()"
      ]
     },
     "metadata": {},
     "output_type": "display_data"
    },
    {
     "data": {
      "application/vnd.jupyter.widget-view+json": {
       "model_id": "e9b9b3a8edec442db0c969323baad2d3",
       "version_major": 2,
       "version_minor": 0
      },
      "text/plain": [
       "TransientProgressBar(value=0.0)"
      ]
     },
     "metadata": {},
     "output_type": "display_data"
    },
    {
     "data": {
      "application/vnd.jupyter.widget-view+json": {
       "model_id": "ee07d9a3e1ba482b9576fa78c9e638cd",
       "version_major": 2,
       "version_minor": 0
      },
      "text/plain": [
       "InstancesProgress()"
      ]
     },
     "metadata": {},
     "output_type": "display_data"
    },
    {
     "data": {
      "application/vnd.jupyter.widget-view+json": {
       "model_id": "0a2b5b844eca4478a99b816a1c2858e4",
       "version_major": 2,
       "version_minor": 0
      },
      "text/plain": [
       "HTMLNotifier()"
      ]
     },
     "metadata": {},
     "output_type": "display_data"
    },
    {
     "data": {
      "application/vnd.jupyter.widget-view+json": {
       "model_id": "fb048c2856b043299467df2855118a19",
       "version_major": 2,
       "version_minor": 0
      },
      "text/plain": [
       "TransientProgressBar(value=0.0)"
      ]
     },
     "metadata": {},
     "output_type": "display_data"
    },
    {
     "data": {
      "application/vnd.jupyter.widget-view+json": {
       "model_id": "8a131460ddbb4e818d8e7f2abbd2cc0c",
       "version_major": 2,
       "version_minor": 0
      },
      "text/plain": [
       "InstancesProgress()"
      ]
     },
     "metadata": {},
     "output_type": "display_data"
    },
    {
     "data": {
      "application/vnd.jupyter.widget-view+json": {
       "model_id": "e58557a6e43644c8ac6f6ba1dc09d178",
       "version_major": 2,
       "version_minor": 0
      },
      "text/plain": [
       "HTMLNotifier()"
      ]
     },
     "metadata": {},
     "output_type": "display_data"
    },
    {
     "data": {
      "application/vnd.jupyter.widget-view+json": {
       "model_id": "11c53dbf274946148eced7d5a444d1fb",
       "version_major": 2,
       "version_minor": 0
      },
      "text/plain": [
       "TransientProgressBar(value=0.0)"
      ]
     },
     "metadata": {},
     "output_type": "display_data"
    },
    {
     "data": {
      "application/vnd.jupyter.widget-view+json": {
       "model_id": "09ba80ebe3364d359d44dbed4c18c996",
       "version_major": 2,
       "version_minor": 0
      },
      "text/plain": [
       "InstancesProgress()"
      ]
     },
     "metadata": {},
     "output_type": "display_data"
    },
    {
     "data": {
      "application/vnd.jupyter.widget-view+json": {
       "model_id": "56032a9e522c4a0fa205de9dbcb7868e",
       "version_major": 2,
       "version_minor": 0
      },
      "text/plain": [
       "HTMLNotifier()"
      ]
     },
     "metadata": {},
     "output_type": "display_data"
    },
    {
     "data": {
      "application/vnd.jupyter.widget-view+json": {
       "model_id": "9a30e74f721d433580b25f374d6dccc1",
       "version_major": 2,
       "version_minor": 0
      },
      "text/plain": [
       "TransientProgressBar(value=0.0)"
      ]
     },
     "metadata": {},
     "output_type": "display_data"
    },
    {
     "data": {
      "application/vnd.jupyter.widget-view+json": {
       "model_id": "403626d03cf8411099ff77f97747e9ed",
       "version_major": 2,
       "version_minor": 0
      },
      "text/plain": [
       "InstancesProgress()"
      ]
     },
     "metadata": {},
     "output_type": "display_data"
    },
    {
     "data": {
      "application/vnd.jupyter.widget-view+json": {
       "model_id": "4687292cb2d045ed95989d638cd56ce6",
       "version_major": 2,
       "version_minor": 0
      },
      "text/plain": [
       "HTMLNotifier()"
      ]
     },
     "metadata": {},
     "output_type": "display_data"
    },
    {
     "data": {
      "application/vnd.jupyter.widget-view+json": {
       "model_id": "3c5a8f36ebc04834b9d88b070c7f2fc4",
       "version_major": 2,
       "version_minor": 0
      },
      "text/plain": [
       "TransientProgressBar(value=0.0)"
      ]
     },
     "metadata": {},
     "output_type": "display_data"
    },
    {
     "data": {
      "application/vnd.jupyter.widget-view+json": {
       "model_id": "0ebb79012da440e8b163e354151d7f65",
       "version_major": 2,
       "version_minor": 0
      },
      "text/plain": [
       "InstancesProgress()"
      ]
     },
     "metadata": {},
     "output_type": "display_data"
    },
    {
     "data": {
      "application/vnd.jupyter.widget-view+json": {
       "model_id": "f39ccc64c70b4c7fa6322bbd3cf900ea",
       "version_major": 2,
       "version_minor": 0
      },
      "text/plain": [
       "HTMLNotifier()"
      ]
     },
     "metadata": {},
     "output_type": "display_data"
    },
    {
     "data": {
      "application/vnd.jupyter.widget-view+json": {
       "model_id": "1e1b2989ade545829ac317341630ec36",
       "version_major": 2,
       "version_minor": 0
      },
      "text/plain": [
       "TransientProgressBar(value=0.0)"
      ]
     },
     "metadata": {},
     "output_type": "display_data"
    },
    {
     "data": {
      "application/vnd.jupyter.widget-view+json": {
       "model_id": "b08fd0ee8aac4e8f97357a615bcf028b",
       "version_major": 2,
       "version_minor": 0
      },
      "text/plain": [
       "InstancesProgress()"
      ]
     },
     "metadata": {},
     "output_type": "display_data"
    },
    {
     "data": {
      "application/vnd.jupyter.widget-view+json": {
       "model_id": "cc74f3cdeced4e5da387cb13829ebd18",
       "version_major": 2,
       "version_minor": 0
      },
      "text/plain": [
       "HTMLNotifier()"
      ]
     },
     "metadata": {},
     "output_type": "display_data"
    },
    {
     "data": {
      "application/vnd.jupyter.widget-view+json": {
       "model_id": "e6730addbbef4c758693b1e21fc87302",
       "version_major": 2,
       "version_minor": 0
      },
      "text/plain": [
       "TransientProgressBar(value=0.0)"
      ]
     },
     "metadata": {},
     "output_type": "display_data"
    },
    {
     "data": {
      "application/vnd.jupyter.widget-view+json": {
       "model_id": "51ff5e4f3a234c10a9f0b1b7b249cd74",
       "version_major": 2,
       "version_minor": 0
      },
      "text/plain": [
       "InstancesProgress()"
      ]
     },
     "metadata": {},
     "output_type": "display_data"
    },
    {
     "data": {
      "application/vnd.jupyter.widget-view+json": {
       "model_id": "424be55cfabb4836a2bef91826ce9625",
       "version_major": 2,
       "version_minor": 0
      },
      "text/plain": [
       "HTMLNotifier()"
      ]
     },
     "metadata": {},
     "output_type": "display_data"
    },
    {
     "data": {
      "application/vnd.jupyter.widget-view+json": {
       "model_id": "888d4bd091384d18aaad44d2ea646c33",
       "version_major": 2,
       "version_minor": 0
      },
      "text/plain": [
       "TransientProgressBar(value=0.0)"
      ]
     },
     "metadata": {},
     "output_type": "display_data"
    },
    {
     "data": {
      "application/vnd.jupyter.widget-view+json": {
       "model_id": "201d1ea00d92449b8bab6cee840110d8",
       "version_major": 2,
       "version_minor": 0
      },
      "text/plain": [
       "InstancesProgress()"
      ]
     },
     "metadata": {},
     "output_type": "display_data"
    },
    {
     "data": {
      "application/vnd.jupyter.widget-view+json": {
       "model_id": "5d0e7d36420a4a0b84d016cc2feee3df",
       "version_major": 2,
       "version_minor": 0
      },
      "text/plain": [
       "HTMLNotifier()"
      ]
     },
     "metadata": {},
     "output_type": "display_data"
    },
    {
     "data": {
      "image/png": "[encoded data removed]",
      "text/plain": [
       "<Figure size 864x864 with 9 Axes>"
      ]
     },
     "metadata": {
      "needs_background": "light"
     },
     "output_type": "display_data"
    }
   ],
   "source": [
    "fig1, axs = plt.subplots(3, 3, figsize=(12,12), constrained_layout=True)\n",
    "axs = trim_axs(axs, 9)\n",
    "for ax, user_id in zip(axs, prst_users.sample(n=10)):\n",
    "    ax.set_ylim(50,100)\n",
    "    ax.set_title('user_id=%s' % str(user_id))\n",
    "    user = prst[prst.user_id==user_id]\n",
    "    user = user.to_pandas()\n",
    "    ax.plot(user.lesson_id, user.val , 'bs', mean_prst.index, mean_prst.val_mean, 'g^')"
   ]
  },
  {
   "cell_type": "code",
   "execution_count": 3,
   "metadata": {},
   "outputs": [
    {
     "data": {
      "application/vnd.jupyter.widget-view+json": {
       "model_id": "374fea34f85c443b97d86989ac3360bc",
       "version_major": 2,
       "version_minor": 0
      },
      "text/plain": [
       "TransientProgressBar(value=0.0)"
      ]
     },
     "metadata": {},
     "output_type": "display_data"
    },
    {
     "data": {
      "application/vnd.jupyter.widget-view+json": {
       "model_id": "90e8ecb289084cc7ad5c15ab91a43e2f",
       "version_major": 2,
       "version_minor": 0
      },
      "text/plain": [
       "InstancesProgress()"
      ]
     },
     "metadata": {},
     "output_type": "display_data"
    },
    {
     "data": {
      "application/vnd.jupyter.widget-view+json": {
       "model_id": "170ef91c0dec4553b8595c107517c429",
       "version_major": 2,
       "version_minor": 0
      },
      "text/plain": [
       "HTMLNotifier()"
      ]
     },
     "metadata": {},
     "output_type": "display_data"
    },
    {
     "data": {
      "application/vnd.jupyter.widget-view+json": {
       "model_id": "1b547c533e014afd8f2caacd4a5c1041",
       "version_major": 2,
       "version_minor": 0
      },
      "text/plain": [
       "DFViewWidget()"
      ]
     },
     "metadata": {},
     "output_type": "display_data"
    },
    {
     "data": {
      "text/html": [
       "<div>\n",
       "<style scoped>\n",
       "    .dataframe tbody tr th:only-of-type {\n",
       "        vertical-align: middle;\n",
       "    }\n",
       "\n",
       "    .dataframe tbody tr th {\n",
       "        vertical-align: top;\n",
       "    }\n",
       "\n",
       "    .dataframe thead th {\n",
       "        text-align: right;\n",
       "    }\n",
       "</style>\n",
       "<table border=\"1\" class=\"dataframe\">\n",
       "  <thead>\n",
       "    <tr style=\"text-align: right;\">\n",
       "      <th></th>\n",
       "      <th>user_id</th>\n",
       "      <th>lesson_id</th>\n",
       "      <th>category</th>\n",
       "      <th>times</th>\n",
       "      <th>max_score</th>\n",
       "    </tr>\n",
       "  </thead>\n",
       "  <tbody>\n",
       "    <tr>\n",
       "      <th>0</th>\n",
       "      <td>6145</td>\n",
       "      <td>65</td>\n",
       "      <td>vocabulary</td>\n",
       "      <td>1</td>\n",
       "      <td>100</td>\n",
       "    </tr>\n",
       "    <tr>\n",
       "      <th>1</th>\n",
       "      <td>6145</td>\n",
       "      <td>67</td>\n",
       "      <td>vocabulary</td>\n",
       "      <td>1</td>\n",
       "      <td>100</td>\n",
       "    </tr>\n",
       "    <tr>\n",
       "      <th>2</th>\n",
       "      <td>6145</td>\n",
       "      <td>68</td>\n",
       "      <td>vocabulary</td>\n",
       "      <td>1</td>\n",
       "      <td>100</td>\n",
       "    </tr>\n",
       "    <tr>\n",
       "      <th>3</th>\n",
       "      <td>6145</td>\n",
       "      <td>69</td>\n",
       "      <td>vocabulary</td>\n",
       "      <td>1</td>\n",
       "      <td>100</td>\n",
       "    </tr>\n",
       "    <tr>\n",
       "      <th>4</th>\n",
       "      <td>6145</td>\n",
       "      <td>71</td>\n",
       "      <td>vocabulary</td>\n",
       "      <td>1</td>\n",
       "      <td>100</td>\n",
       "    </tr>\n",
       "    <tr>\n",
       "      <th>5</th>\n",
       "      <td>6145</td>\n",
       "      <td>72</td>\n",
       "      <td>vocabulary</td>\n",
       "      <td>1</td>\n",
       "      <td>100</td>\n",
       "    </tr>\n",
       "    <tr>\n",
       "      <th>6</th>\n",
       "      <td>6145</td>\n",
       "      <td>73</td>\n",
       "      <td>vocabulary</td>\n",
       "      <td>1</td>\n",
       "      <td>100</td>\n",
       "    </tr>\n",
       "    <tr>\n",
       "      <th>7</th>\n",
       "      <td>6145</td>\n",
       "      <td>74</td>\n",
       "      <td>vocabulary</td>\n",
       "      <td>1</td>\n",
       "      <td>100</td>\n",
       "    </tr>\n",
       "    <tr>\n",
       "      <th>8</th>\n",
       "      <td>6145</td>\n",
       "      <td>79</td>\n",
       "      <td>vocabulary</td>\n",
       "      <td>1</td>\n",
       "      <td>100</td>\n",
       "    </tr>\n",
       "    <tr>\n",
       "      <th>9</th>\n",
       "      <td>6145</td>\n",
       "      <td>82</td>\n",
       "      <td>vocabulary</td>\n",
       "      <td>1</td>\n",
       "      <td>100</td>\n",
       "    </tr>\n",
       "  </tbody>\n",
       "</table>\n",
       "</div>"
      ],
      "text/plain": [
       "   user_id  lesson_id    category  times  max_score\n",
       "0     6145         65  vocabulary      1        100\n",
       "1     6145         67  vocabulary      1        100\n",
       "2     6145         68  vocabulary      1        100\n",
       "3     6145         69  vocabulary      1        100\n",
       "4     6145         71  vocabulary      1        100\n",
       "5     6145         72  vocabulary      1        100\n",
       "6     6145         73  vocabulary      1        100\n",
       "7     6145         74  vocabulary      1        100\n",
       "8     6145         79  vocabulary      1        100\n",
       "9     6145         82  vocabulary      1        100"
      ]
     },
     "execution_count": 3,
     "metadata": {},
     "output_type": "execute_result"
    }
   ],
   "source": [
    "tablename = 'Qkids_V2_dev.tmp_2_dwd_student_progress_test'\n",
    "df = odps.get_table(tablename).to_df()\n",
    "df.head(10)"
   ]
  },
  {
   "cell_type": "code",
   "execution_count": 12,
   "metadata": {},
   "outputs": [
    {
     "data": {
      "application/vnd.jupyter.widget-view+json": {
       "model_id": "9ee999c4dc9c4eb79a33b980556a0005",
       "version_major": 2,
       "version_minor": 0
      },
      "text/plain": [
       "TransientProgressBar(value=0.0)"
      ]
     },
     "metadata": {},
     "output_type": "display_data"
    },
    {
     "data": {
      "application/vnd.jupyter.widget-view+json": {
       "model_id": "60a3fad786cc4decaf6d870cf76e7435",
       "version_major": 2,
       "version_minor": 0
      },
      "text/plain": [
       "InstancesProgress()"
      ]
     },
     "metadata": {},
     "output_type": "display_data"
    },
    {
     "data": {
      "application/vnd.jupyter.widget-view+json": {
       "model_id": "0decb3b79a4646a4a74230d2d32adb0e",
       "version_major": 2,
       "version_minor": 0
      },
      "text/plain": [
       "HTMLNotifier()"
      ]
     },
     "metadata": {},
     "output_type": "display_data"
    },
    {
     "data": {
      "application/vnd.jupyter.widget-view+json": {
       "model_id": "fec13d0d7a3541dc8abe0d80e7e26793",
       "version_major": 2,
       "version_minor": 0
      },
      "text/plain": [
       "DFViewWidget()"
      ]
     },
     "metadata": {},
     "output_type": "display_data"
    },
    {
     "data": {
      "text/html": [
       "<div>\n",
       "<style scoped>\n",
       "    .dataframe tbody tr th:only-of-type {\n",
       "        vertical-align: middle;\n",
       "    }\n",
       "\n",
       "    .dataframe tbody tr th {\n",
       "        vertical-align: top;\n",
       "    }\n",
       "\n",
       "    .dataframe thead th {\n",
       "        text-align: right;\n",
       "    }\n",
       "</style>\n",
       "<table border=\"1\" class=\"dataframe\">\n",
       "  <thead>\n",
       "    <tr style=\"text-align: right;\">\n",
       "      <th></th>\n",
       "      <th>type</th>\n",
       "      <th>user_id</th>\n",
       "      <th>lesson_id</th>\n",
       "      <th>times</th>\n",
       "      <th>max_score</th>\n",
       "    </tr>\n",
       "  </thead>\n",
       "  <tbody>\n",
       "    <tr>\n",
       "      <th>0</th>\n",
       "      <td>count</td>\n",
       "      <td>1.465800e+05</td>\n",
       "      <td>146580.000000</td>\n",
       "      <td>146580.000000</td>\n",
       "      <td>146580.000000</td>\n",
       "    </tr>\n",
       "    <tr>\n",
       "      <th>1</th>\n",
       "      <td>mean</td>\n",
       "      <td>7.576971e+05</td>\n",
       "      <td>90.500000</td>\n",
       "      <td>1.259872</td>\n",
       "      <td>98.822124</td>\n",
       "    </tr>\n",
       "    <tr>\n",
       "      <th>2</th>\n",
       "      <td>std</td>\n",
       "      <td>3.277063e+05</td>\n",
       "      <td>17.318161</td>\n",
       "      <td>2.137326</td>\n",
       "      <td>5.994334</td>\n",
       "    </tr>\n",
       "    <tr>\n",
       "      <th>3</th>\n",
       "      <td>min</td>\n",
       "      <td>6.145000e+03</td>\n",
       "      <td>61.000000</td>\n",
       "      <td>1.000000</td>\n",
       "      <td>0.000000</td>\n",
       "    </tr>\n",
       "    <tr>\n",
       "      <th>4</th>\n",
       "      <td>quantile_25</td>\n",
       "      <td>5.018510e+05</td>\n",
       "      <td>75.750000</td>\n",
       "      <td>1.000000</td>\n",
       "      <td>100.000000</td>\n",
       "    </tr>\n",
       "    <tr>\n",
       "      <th>5</th>\n",
       "      <td>quantile_50</td>\n",
       "      <td>7.849600e+05</td>\n",
       "      <td>90.500000</td>\n",
       "      <td>1.000000</td>\n",
       "      <td>100.000000</td>\n",
       "    </tr>\n",
       "    <tr>\n",
       "      <th>6</th>\n",
       "      <td>quantile_75</td>\n",
       "      <td>9.890280e+05</td>\n",
       "      <td>105.250000</td>\n",
       "      <td>1.000000</td>\n",
       "      <td>100.000000</td>\n",
       "    </tr>\n",
       "    <tr>\n",
       "      <th>7</th>\n",
       "      <td>max</td>\n",
       "      <td>1.806613e+06</td>\n",
       "      <td>120.000000</td>\n",
       "      <td>714.000000</td>\n",
       "      <td>100.000000</td>\n",
       "    </tr>\n",
       "  </tbody>\n",
       "</table>\n",
       "</div>"
      ],
      "text/plain": [
       "          type       user_id      lesson_id          times      max_score\n",
       "0        count  1.465800e+05  146580.000000  146580.000000  146580.000000\n",
       "1         mean  7.576971e+05      90.500000       1.259872      98.822124\n",
       "2          std  3.277063e+05      17.318161       2.137326       5.994334\n",
       "3          min  6.145000e+03      61.000000       1.000000       0.000000\n",
       "4  quantile_25  5.018510e+05      75.750000       1.000000     100.000000\n",
       "5  quantile_50  7.849600e+05      90.500000       1.000000     100.000000\n",
       "6  quantile_75  9.890280e+05     105.250000       1.000000     100.000000\n",
       "7          max  1.806613e+06     120.000000     714.000000     100.000000"
      ]
     },
     "execution_count": 12,
     "metadata": {},
     "output_type": "execute_result"
    }
   ],
   "source": [
    "df.describe()"
   ]
  },
  {
   "cell_type": "code",
   "execution_count": 14,
   "metadata": {},
   "outputs": [
    {
     "data": {
      "application/vnd.jupyter.widget-view+json": {
       "model_id": "46319e3e9d06491dbff7907f653431f1",
       "version_major": 2,
       "version_minor": 0
      },
      "text/plain": [
       "TransientProgressBar(value=0.0)"
      ]
     },
     "metadata": {},
     "output_type": "display_data"
    },
    {
     "data": {
      "application/vnd.jupyter.widget-view+json": {
       "model_id": "3126a7301b0c494d8e34681a7446f943",
       "version_major": 2,
       "version_minor": 0
      },
      "text/plain": [
       "InstancesProgress()"
      ]
     },
     "metadata": {},
     "output_type": "display_data"
    },
    {
     "data": {
      "application/vnd.jupyter.widget-view+json": {
       "model_id": "7786b57bd0e24cc8bb0e9bbc344a60b1",
       "version_major": 2,
       "version_minor": 0
      },
      "text/plain": [
       "HTMLNotifier()"
      ]
     },
     "metadata": {},
     "output_type": "display_data"
    },
    {
     "data": {
      "application/vnd.jupyter.widget-view+json": {
       "model_id": "798c25391cbf43d2951a532fb67b5dc6",
       "version_major": 2,
       "version_minor": 0
      },
      "text/plain": [
       "DFViewWidget()"
      ]
     },
     "metadata": {},
     "output_type": "display_data"
    },
    {
     "data": {
      "text/html": [
       "<div>\n",
       "<style scoped>\n",
       "    .dataframe tbody tr th:only-of-type {\n",
       "        vertical-align: middle;\n",
       "    }\n",
       "\n",
       "    .dataframe tbody tr th {\n",
       "        vertical-align: top;\n",
       "    }\n",
       "\n",
       "    .dataframe thead th {\n",
       "        text-align: right;\n",
       "    }\n",
       "</style>\n",
       "<table border=\"1\" class=\"dataframe\">\n",
       "  <thead>\n",
       "    <tr style=\"text-align: right;\">\n",
       "      <th></th>\n",
       "      <th>user_id</th>\n",
       "      <th>lesson_id</th>\n",
       "      <th>category</th>\n",
       "      <th>times</th>\n",
       "      <th>max_score</th>\n",
       "    </tr>\n",
       "  </thead>\n",
       "  <tbody>\n",
       "    <tr>\n",
       "      <th>0</th>\n",
       "      <td>477247</td>\n",
       "      <td>70</td>\n",
       "      <td>vocabulary</td>\n",
       "      <td>714</td>\n",
       "      <td>100</td>\n",
       "    </tr>\n",
       "    <tr>\n",
       "      <th>1</th>\n",
       "      <td>45937</td>\n",
       "      <td>61</td>\n",
       "      <td>vocabulary</td>\n",
       "      <td>72</td>\n",
       "      <td>100</td>\n",
       "    </tr>\n",
       "    <tr>\n",
       "      <th>2</th>\n",
       "      <td>714120</td>\n",
       "      <td>114</td>\n",
       "      <td>vocabulary</td>\n",
       "      <td>53</td>\n",
       "      <td>100</td>\n",
       "    </tr>\n",
       "  </tbody>\n",
       "</table>\n",
       "</div>"
      ],
      "text/plain": [
       "   user_id  lesson_id    category  times  max_score\n",
       "0   477247         70  vocabulary    714        100\n",
       "1    45937         61  vocabulary     72        100\n",
       "2   714120        114  vocabulary     53        100"
      ]
     },
     "execution_count": 14,
     "metadata": {},
     "output_type": "execute_result"
    }
   ],
   "source": [
    "df[df.times > 50]"
   ]
  },
  {
   "cell_type": "code",
   "execution_count": 4,
   "metadata": {},
   "outputs": [
    {
     "data": {
      "application/vnd.jupyter.widget-view+json": {
       "model_id": "f5a9f4122d5a40949d3ed69de2cab262",
       "version_major": 2,
       "version_minor": 0
      },
      "text/plain": [
       "TransientProgressBar(value=0.0)"
      ]
     },
     "metadata": {},
     "output_type": "display_data"
    },
    {
     "data": {
      "application/vnd.jupyter.widget-view+json": {
       "model_id": "7cf05b83cd914b86a1d89c78c5e18596",
       "version_major": 2,
       "version_minor": 0
      },
      "text/plain": [
       "InstancesProgress()"
      ]
     },
     "metadata": {},
     "output_type": "display_data"
    },
    {
     "data": {
      "application/vnd.jupyter.widget-view+json": {
       "model_id": "c9806494fc06410da3a616fde52efbfc",
       "version_major": 2,
       "version_minor": 0
      },
      "text/plain": [
       "HTMLNotifier()"
      ]
     },
     "metadata": {},
     "output_type": "display_data"
    },
    {
     "data": {
      "application/vnd.jupyter.widget-view+json": {
       "model_id": "550fc25e9606431c8616477b34ee0eed",
       "version_major": 2,
       "version_minor": 0
      },
      "text/plain": [
       "DFViewWidget()"
      ]
     },
     "metadata": {},
     "output_type": "display_data"
    },
    {
     "data": {
      "text/html": [
       "<div>\n",
       "<style scoped>\n",
       "    .dataframe tbody tr th:only-of-type {\n",
       "        vertical-align: middle;\n",
       "    }\n",
       "\n",
       "    .dataframe tbody tr th {\n",
       "        vertical-align: top;\n",
       "    }\n",
       "\n",
       "    .dataframe thead th {\n",
       "        text-align: right;\n",
       "    }\n",
       "</style>\n",
       "<table border=\"1\" class=\"dataframe\">\n",
       "  <thead>\n",
       "    <tr style=\"text-align: right;\">\n",
       "      <th></th>\n",
       "      <th>lesson_id</th>\n",
       "      <th>lesson_id_mean</th>\n",
       "      <th>max_score_mean</th>\n",
       "      <th>times_mean</th>\n",
       "    </tr>\n",
       "  </thead>\n",
       "  <tbody>\n",
       "    <tr>\n",
       "      <th>0</th>\n",
       "      <td>61</td>\n",
       "      <td>61.0</td>\n",
       "      <td>99.885387</td>\n",
       "      <td>1.706918</td>\n",
       "    </tr>\n",
       "    <tr>\n",
       "      <th>1</th>\n",
       "      <td>62</td>\n",
       "      <td>62.0</td>\n",
       "      <td>99.369628</td>\n",
       "      <td>1.499386</td>\n",
       "    </tr>\n",
       "    <tr>\n",
       "      <th>2</th>\n",
       "      <td>63</td>\n",
       "      <td>63.0</td>\n",
       "      <td>99.338928</td>\n",
       "      <td>1.445763</td>\n",
       "    </tr>\n",
       "    <tr>\n",
       "      <th>3</th>\n",
       "      <td>64</td>\n",
       "      <td>64.0</td>\n",
       "      <td>99.271388</td>\n",
       "      <td>1.382726</td>\n",
       "    </tr>\n",
       "    <tr>\n",
       "      <th>4</th>\n",
       "      <td>65</td>\n",
       "      <td>65.0</td>\n",
       "      <td>99.549734</td>\n",
       "      <td>1.331969</td>\n",
       "    </tr>\n",
       "    <tr>\n",
       "      <th>5</th>\n",
       "      <td>66</td>\n",
       "      <td>66.0</td>\n",
       "      <td>99.697094</td>\n",
       "      <td>1.285714</td>\n",
       "    </tr>\n",
       "    <tr>\n",
       "      <th>6</th>\n",
       "      <td>67</td>\n",
       "      <td>67.0</td>\n",
       "      <td>99.132214</td>\n",
       "      <td>1.327466</td>\n",
       "    </tr>\n",
       "    <tr>\n",
       "      <th>7</th>\n",
       "      <td>68</td>\n",
       "      <td>68.0</td>\n",
       "      <td>99.582481</td>\n",
       "      <td>1.292264</td>\n",
       "    </tr>\n",
       "    <tr>\n",
       "      <th>8</th>\n",
       "      <td>69</td>\n",
       "      <td>69.0</td>\n",
       "      <td>98.739255</td>\n",
       "      <td>1.367581</td>\n",
       "    </tr>\n",
       "    <tr>\n",
       "      <th>9</th>\n",
       "      <td>70</td>\n",
       "      <td>70.0</td>\n",
       "      <td>97.367990</td>\n",
       "      <td>1.576750</td>\n",
       "    </tr>\n",
       "  </tbody>\n",
       "</table>\n",
       "</div>"
      ],
      "text/plain": [
       "   lesson_id  lesson_id_mean  max_score_mean  times_mean\n",
       "0         61            61.0       99.885387    1.706918\n",
       "1         62            62.0       99.369628    1.499386\n",
       "2         63            63.0       99.338928    1.445763\n",
       "3         64            64.0       99.271388    1.382726\n",
       "4         65            65.0       99.549734    1.331969\n",
       "5         66            66.0       99.697094    1.285714\n",
       "6         67            67.0       99.132214    1.327466\n",
       "7         68            68.0       99.582481    1.292264\n",
       "8         69            69.0       98.739255    1.367581\n",
       "9         70            70.0       97.367990    1.576750"
      ]
     },
     "execution_count": 4,
     "metadata": {},
     "output_type": "execute_result"
    }
   ],
   "source": [
    "mean_df = df['lesson_id','times', 'max_score'].groupby('lesson_id').mean()\n",
    "mean_df.head(10)"
   ]
  },
  {
   "cell_type": "code",
   "execution_count": 5,
   "metadata": {},
   "outputs": [
    {
     "data": {
      "application/vnd.jupyter.widget-view+json": {
       "model_id": "211f01be152147948f0a4e8f9ac90091",
       "version_major": 2,
       "version_minor": 0
      },
      "text/plain": [
       "TransientProgressBar(value=0.0)"
      ]
     },
     "metadata": {},
     "output_type": "display_data"
    },
    {
     "data": {
      "application/vnd.jupyter.widget-view+json": {
       "model_id": "375c51d8830741909abe60d515d0d2f4",
       "version_major": 2,
       "version_minor": 0
      },
      "text/plain": [
       "InstancesProgress()"
      ]
     },
     "metadata": {},
     "output_type": "display_data"
    },
    {
     "data": {
      "application/vnd.jupyter.widget-view+json": {
       "model_id": "3d8940e1bff14587907cb28f1fa63c2a",
       "version_major": 2,
       "version_minor": 0
      },
      "text/plain": [
       "HTMLNotifier()"
      ]
     },
     "metadata": {},
     "output_type": "display_data"
    },
    {
     "data": {
      "application/vnd.jupyter.widget-view+json": {
       "model_id": "dfc36dd5ee5e488abe5f70ed1bbe8fa6",
       "version_major": 2,
       "version_minor": 0
      },
      "text/plain": [
       "TransientProgressBar(value=0.0)"
      ]
     },
     "metadata": {},
     "output_type": "display_data"
    },
    {
     "data": {
      "application/vnd.jupyter.widget-view+json": {
       "model_id": "fc495132d9cb419b95d343435c51aa99",
       "version_major": 2,
       "version_minor": 0
      },
      "text/plain": [
       "InstancesProgress()"
      ]
     },
     "metadata": {},
     "output_type": "display_data"
    },
    {
     "data": {
      "application/vnd.jupyter.widget-view+json": {
       "model_id": "249a7be96a80447aa0cf735114afd569",
       "version_major": 2,
       "version_minor": 0
      },
      "text/plain": [
       "HTMLNotifier()"
      ]
     },
     "metadata": {},
     "output_type": "display_data"
    },
    {
     "data": {
      "text/plain": [
       "<matplotlib.axes._subplots.AxesSubplot at 0x7f9893478160>"
      ]
     },
     "execution_count": 5,
     "metadata": {},
     "output_type": "execute_result"
    },
    {
     "data": {
      "image/png": "[encoded data removed]",
      "text/plain": [
       "<Figure size 432x288 with 1 Axes>"
      ]
     },
     "metadata": {
      "needs_background": "light"
     },
     "output_type": "display_data"
    }
   ],
   "source": [
    "users = df.user_id.unique().to_pandas()\n",
    "mean_pdf = mean_df['lesson_id','max_score_mean'].to_pandas()\n",
    "mean_pdf = mean_pdf.set_index('lesson_id')\n",
    "mean_pdf.plot()"
   ]
  },
  {
   "cell_type": "code",
   "execution_count": 15,
   "metadata": {},
   "outputs": [
    {
     "data": {
      "application/vnd.jupyter.widget-view+json": {
       "model_id": "baad899789dc47dba76dfb1ea4dd74b5",
       "version_major": 2,
       "version_minor": 0
      },
      "text/plain": [
       "TransientProgressBar(value=0.0)"
      ]
     },
     "metadata": {},
     "output_type": "display_data"
    },
    {
     "data": {
      "application/vnd.jupyter.widget-view+json": {
       "model_id": "26a9ed8582e24c93af101c9843d49c48",
       "version_major": 2,
       "version_minor": 0
      },
      "text/plain": [
       "InstancesProgress()"
      ]
     },
     "metadata": {},
     "output_type": "display_data"
    },
    {
     "data": {
      "application/vnd.jupyter.widget-view+json": {
       "model_id": "36d934670379490cbdd7ec964d76a6d4",
       "version_major": 2,
       "version_minor": 0
      },
      "text/plain": [
       "HTMLNotifier()"
      ]
     },
     "metadata": {},
     "output_type": "display_data"
    },
    {
     "data": {
      "application/vnd.jupyter.widget-view+json": {
       "model_id": "175a6cc1e3c84f348506ca890fdccb62",
       "version_major": 2,
       "version_minor": 0
      },
      "text/plain": [
       "TransientProgressBar(value=0.0)"
      ]
     },
     "metadata": {},
     "output_type": "display_data"
    },
    {
     "data": {
      "application/vnd.jupyter.widget-view+json": {
       "model_id": "406e67e14cda4a6f9e8d8d5a809dd427",
       "version_major": 2,
       "version_minor": 0
      },
      "text/plain": [
       "InstancesProgress()"
      ]
     },
     "metadata": {},
     "output_type": "display_data"
    },
    {
     "data": {
      "application/vnd.jupyter.widget-view+json": {
       "model_id": "5eb0771529bc4e8e8c90b65b30a066b1",
       "version_major": 2,
       "version_minor": 0
      },
      "text/plain": [
       "HTMLNotifier()"
      ]
     },
     "metadata": {},
     "output_type": "display_data"
    },
    {
     "data": {
      "application/vnd.jupyter.widget-view+json": {
       "model_id": "908e9137ce864f7bafe4b818cd36a242",
       "version_major": 2,
       "version_minor": 0
      },
      "text/plain": [
       "TransientProgressBar(value=0.0)"
      ]
     },
     "metadata": {},
     "output_type": "display_data"
    },
    {
     "data": {
      "application/vnd.jupyter.widget-view+json": {
       "model_id": "62a3e7e39a5a464a99116db121451ad0",
       "version_major": 2,
       "version_minor": 0
      },
      "text/plain": [
       "InstancesProgress()"
      ]
     },
     "metadata": {},
     "output_type": "display_data"
    },
    {
     "data": {
      "application/vnd.jupyter.widget-view+json": {
       "model_id": "26f7c9ed982e4e5f8ea3d3ba295653d2",
       "version_major": 2,
       "version_minor": 0
      },
      "text/plain": [
       "HTMLNotifier()"
      ]
     },
     "metadata": {},
     "output_type": "display_data"
    },
    {
     "data": {
      "application/vnd.jupyter.widget-view+json": {
       "model_id": "f662e85f3fc04b8588dbf589ee32e656",
       "version_major": 2,
       "version_minor": 0
      },
      "text/plain": [
       "TransientProgressBar(value=0.0)"
      ]
     },
     "metadata": {},
     "output_type": "display_data"
    },
    {
     "data": {
      "application/vnd.jupyter.widget-view+json": {
       "model_id": "9162616b09a341088f1b6f8e5036d565",
       "version_major": 2,
       "version_minor": 0
      },
      "text/plain": [
       "InstancesProgress()"
      ]
     },
     "metadata": {},
     "output_type": "display_data"
    },
    {
     "data": {
      "application/vnd.jupyter.widget-view+json": {
       "model_id": "1beb5423292643b2b2e30bd84dd95079",
       "version_major": 2,
       "version_minor": 0
      },
      "text/plain": [
       "HTMLNotifier()"
      ]
     },
     "metadata": {},
     "output_type": "display_data"
    },
    {
     "data": {
      "application/vnd.jupyter.widget-view+json": {
       "model_id": "e7cbc7f400064edbb5510a67618f03c5",
       "version_major": 2,
       "version_minor": 0
      },
      "text/plain": [
       "TransientProgressBar(value=0.0)"
      ]
     },
     "metadata": {},
     "output_type": "display_data"
    },
    {
     "data": {
      "application/vnd.jupyter.widget-view+json": {
       "model_id": "4e1c60e2441a4050ac2ac8e1da6d91d4",
       "version_major": 2,
       "version_minor": 0
      },
      "text/plain": [
       "InstancesProgress()"
      ]
     },
     "metadata": {},
     "output_type": "display_data"
    },
    {
     "data": {
      "application/vnd.jupyter.widget-view+json": {
       "model_id": "b49150b223bc406aab4fd1ad4b5975af",
       "version_major": 2,
       "version_minor": 0
      },
      "text/plain": [
       "HTMLNotifier()"
      ]
     },
     "metadata": {},
     "output_type": "display_data"
    },
    {
     "data": {
      "application/vnd.jupyter.widget-view+json": {
       "model_id": "50624aef3cf546b6af714e9d76da87e3",
       "version_major": 2,
       "version_minor": 0
      },
      "text/plain": [
       "TransientProgressBar(value=0.0)"
      ]
     },
     "metadata": {},
     "output_type": "display_data"
    },
    {
     "data": {
      "application/vnd.jupyter.widget-view+json": {
       "model_id": "23c70070781c4c22a42e3a1550bcfd5c",
       "version_major": 2,
       "version_minor": 0
      },
      "text/plain": [
       "InstancesProgress()"
      ]
     },
     "metadata": {},
     "output_type": "display_data"
    },
    {
     "data": {
      "application/vnd.jupyter.widget-view+json": {
       "model_id": "a8ae73b17d0e45d8b683fc8694c4545c",
       "version_major": 2,
       "version_minor": 0
      },
      "text/plain": [
       "HTMLNotifier()"
      ]
     },
     "metadata": {},
     "output_type": "display_data"
    },
    {
     "data": {
      "application/vnd.jupyter.widget-view+json": {
       "model_id": "eb33a0c46fcb4fcf946e3f4e0ec5ba1f",
       "version_major": 2,
       "version_minor": 0
      },
      "text/plain": [
       "TransientProgressBar(value=0.0)"
      ]
     },
     "metadata": {},
     "output_type": "display_data"
    },
    {
     "data": {
      "application/vnd.jupyter.widget-view+json": {
       "model_id": "6d28c053208b42ac9dc1375fd9f6bc52",
       "version_major": 2,
       "version_minor": 0
      },
      "text/plain": [
       "InstancesProgress()"
      ]
     },
     "metadata": {},
     "output_type": "display_data"
    },
    {
     "data": {
      "application/vnd.jupyter.widget-view+json": {
       "model_id": "e124b03bf4ac46c8bee2d4b6c3f78eda",
       "version_major": 2,
       "version_minor": 0
      },
      "text/plain": [
       "HTMLNotifier()"
      ]
     },
     "metadata": {},
     "output_type": "display_data"
    },
    {
     "data": {
      "application/vnd.jupyter.widget-view+json": {
       "model_id": "f0f51956fe0845e09613eaf04ed07a20",
       "version_major": 2,
       "version_minor": 0
      },
      "text/plain": [
       "TransientProgressBar(value=0.0)"
      ]
     },
     "metadata": {},
     "output_type": "display_data"
    },
    {
     "data": {
      "application/vnd.jupyter.widget-view+json": {
       "model_id": "0943bfb1a7004125aec04b5d3daaf043",
       "version_major": 2,
       "version_minor": 0
      },
      "text/plain": [
       "InstancesProgress()"
      ]
     },
     "metadata": {},
     "output_type": "display_data"
    },
    {
     "data": {
      "application/vnd.jupyter.widget-view+json": {
       "model_id": "f70adfc30261474b84403afb797f41c3",
       "version_major": 2,
       "version_minor": 0
      },
      "text/plain": [
       "HTMLNotifier()"
      ]
     },
     "metadata": {},
     "output_type": "display_data"
    },
    {
     "data": {
      "application/vnd.jupyter.widget-view+json": {
       "model_id": "f76bfb89f3134f0dafa40f3326dac48b",
       "version_major": 2,
       "version_minor": 0
      },
      "text/plain": [
       "TransientProgressBar(value=0.0)"
      ]
     },
     "metadata": {},
     "output_type": "display_data"
    },
    {
     "data": {
      "application/vnd.jupyter.widget-view+json": {
       "model_id": "9848f69d763e40dab654dc6cc1196e42",
       "version_major": 2,
       "version_minor": 0
      },
      "text/plain": [
       "InstancesProgress()"
      ]
     },
     "metadata": {},
     "output_type": "display_data"
    },
    {
     "data": {
      "application/vnd.jupyter.widget-view+json": {
       "model_id": "677b31d8d9be4d0fa76a3d7ba2ba926c",
       "version_major": 2,
       "version_minor": 0
      },
      "text/plain": [
       "HTMLNotifier()"
      ]
     },
     "metadata": {},
     "output_type": "display_data"
    },
    {
     "data": {
      "image/png": "[encoded data removed]",
      "text/plain": [
       "<Figure size 864x576 with 9 Axes>"
      ]
     },
     "metadata": {
      "needs_background": "light"
     },
     "output_type": "display_data"
    }
   ],
   "source": [
    "fig1, axs = plt.subplots(3, 3, figsize=(12,8), constrained_layout=True)\n",
    "axs = trim_axs(axs, 9)\n",
    "for ax, user_id in zip(axs, users.sample(n=10)):\n",
    "    ax.set_title('user_id=%s' % str(user_id))\n",
    "    user = df[df.user_id==user_id]\n",
    "    user = user.to_pandas()\n",
    "    ax.plot(user.lesson_id, user.max_score, 'bs', mean_pdf.index, mean_pdf.max_score_mean, 'g^')"
   ]
  },
  {
   "cell_type": "code",
   "execution_count": 6,
   "metadata": {},
   "outputs": [
    {
     "data": {
      "application/vnd.jupyter.widget-view+json": {
       "model_id": "c6e1a3b1d4d047cd9df4a2de32f74b22",
       "version_major": 2,
       "version_minor": 0
      },
      "text/plain": [
       "TransientProgressBar(value=0.0)"
      ]
     },
     "metadata": {},
     "output_type": "display_data"
    },
    {
     "data": {
      "application/vnd.jupyter.widget-view+json": {
       "model_id": "969c87aad61f406e8c517379c0d40421",
       "version_major": 2,
       "version_minor": 0
      },
      "text/plain": [
       "InstancesProgress()"
      ]
     },
     "metadata": {},
     "output_type": "display_data"
    },
    {
     "data": {
      "application/vnd.jupyter.widget-view+json": {
       "model_id": "0e3c482504154bb99a7d47c817e17360",
       "version_major": 2,
       "version_minor": 0
      },
      "text/plain": [
       "HTMLNotifier()"
      ]
     },
     "metadata": {},
     "output_type": "display_data"
    },
    {
     "data": {
      "text/plain": [
       "<matplotlib.axes._subplots.AxesSubplot at 0x7f989317ce80>"
      ]
     },
     "execution_count": 6,
     "metadata": {},
     "output_type": "execute_result"
    },
    {
     "data": {
      "image/png": "[encoded data removed]",
      "text/plain": [
       "<Figure size 432x288 with 1 Axes>"
      ]
     },
     "metadata": {
      "needs_background": "light"
     },
     "output_type": "display_data"
    }
   ],
   "source": [
    "times_pdf = mean_df['lesson_id','times_mean'].to_pandas()\n",
    "times_pdf = times_pdf.set_index('lesson_id')\n",
    "times_pdf.plot()"
   ]
  },
  {
   "cell_type": "code",
   "execution_count": 10,
   "metadata": {},
   "outputs": [
    {
     "data": {
      "application/vnd.jupyter.widget-view+json": {
       "model_id": "a26ee29e00074316ac2b2381f27ce191",
       "version_major": 2,
       "version_minor": 0
      },
      "text/plain": [
       "TransientProgressBar(value=0.0)"
      ]
     },
     "metadata": {},
     "output_type": "display_data"
    },
    {
     "data": {
      "application/vnd.jupyter.widget-view+json": {
       "model_id": "11d583dbcb6343dc85d5d1509c9a2a19",
       "version_major": 2,
       "version_minor": 0
      },
      "text/plain": [
       "InstancesProgress()"
      ]
     },
     "metadata": {},
     "output_type": "display_data"
    },
    {
     "data": {
      "application/vnd.jupyter.widget-view+json": {
       "model_id": "7d79a8ab940e45bc863fb527e1a04c94",
       "version_major": 2,
       "version_minor": 0
      },
      "text/plain": [
       "HTMLNotifier()"
      ]
     },
     "metadata": {},
     "output_type": "display_data"
    },
    {
     "data": {
      "application/vnd.jupyter.widget-view+json": {
       "model_id": "397317314c404270ab09d30eba718419",
       "version_major": 2,
       "version_minor": 0
      },
      "text/plain": [
       "TransientProgressBar(value=0.0)"
      ]
     },
     "metadata": {},
     "output_type": "display_data"
    },
    {
     "data": {
      "application/vnd.jupyter.widget-view+json": {
       "model_id": "9677ab2d042547349aa649f15704c9ab",
       "version_major": 2,
       "version_minor": 0
      },
      "text/plain": [
       "InstancesProgress()"
      ]
     },
     "metadata": {},
     "output_type": "display_data"
    },
    {
     "data": {
      "application/vnd.jupyter.widget-view+json": {
       "model_id": "a5338b30ad6e4b10876435c2ddb264f1",
       "version_major": 2,
       "version_minor": 0
      },
      "text/plain": [
       "HTMLNotifier()"
      ]
     },
     "metadata": {},
     "output_type": "display_data"
    },
    {
     "data": {
      "application/vnd.jupyter.widget-view+json": {
       "model_id": "959962cb97404358a783811c64684cf0",
       "version_major": 2,
       "version_minor": 0
      },
      "text/plain": [
       "TransientProgressBar(value=0.0)"
      ]
     },
     "metadata": {},
     "output_type": "display_data"
    },
    {
     "data": {
      "application/vnd.jupyter.widget-view+json": {
       "model_id": "29b966aef00340d3b02808a78c1d733d",
       "version_major": 2,
       "version_minor": 0
      },
      "text/plain": [
       "InstancesProgress()"
      ]
     },
     "metadata": {},
     "output_type": "display_data"
    },
    {
     "data": {
      "application/vnd.jupyter.widget-view+json": {
       "model_id": "3d3985211bf24edfa60c8d4dbf8e6130",
       "version_major": 2,
       "version_minor": 0
      },
      "text/plain": [
       "HTMLNotifier()"
      ]
     },
     "metadata": {},
     "output_type": "display_data"
    },
    {
     "data": {
      "application/vnd.jupyter.widget-view+json": {
       "model_id": "b8e22c3d536347c0ba13c991189dac55",
       "version_major": 2,
       "version_minor": 0
      },
      "text/plain": [
       "TransientProgressBar(value=0.0)"
      ]
     },
     "metadata": {},
     "output_type": "display_data"
    },
    {
     "data": {
      "application/vnd.jupyter.widget-view+json": {
       "model_id": "bb2e750a24ef499a8f16050b41455ea2",
       "version_major": 2,
       "version_minor": 0
      },
      "text/plain": [
       "InstancesProgress()"
      ]
     },
     "metadata": {},
     "output_type": "display_data"
    },
    {
     "data": {
      "application/vnd.jupyter.widget-view+json": {
       "model_id": "81bfbf177563497c987d5ec1403fbb45",
       "version_major": 2,
       "version_minor": 0
      },
      "text/plain": [
       "HTMLNotifier()"
      ]
     },
     "metadata": {},
     "output_type": "display_data"
    },
    {
     "data": {
      "application/vnd.jupyter.widget-view+json": {
       "model_id": "f1b48566f79c439d901ed8a4cee6a92a",
       "version_major": 2,
       "version_minor": 0
      },
      "text/plain": [
       "TransientProgressBar(value=0.0)"
      ]
     },
     "metadata": {},
     "output_type": "display_data"
    },
    {
     "data": {
      "application/vnd.jupyter.widget-view+json": {
       "model_id": "1c62abfd187d4fa59ea89404e0f33918",
       "version_major": 2,
       "version_minor": 0
      },
      "text/plain": [
       "InstancesProgress()"
      ]
     },
     "metadata": {},
     "output_type": "display_data"
    },
    {
     "data": {
      "application/vnd.jupyter.widget-view+json": {
       "model_id": "b17a3b551ee74fa794b406aa603c5ae8",
       "version_major": 2,
       "version_minor": 0
      },
      "text/plain": [
       "HTMLNotifier()"
      ]
     },
     "metadata": {},
     "output_type": "display_data"
    },
    {
     "data": {
      "application/vnd.jupyter.widget-view+json": {
       "model_id": "84f82f0d7d084971b80b8a94e7510480",
       "version_major": 2,
       "version_minor": 0
      },
      "text/plain": [
       "TransientProgressBar(value=0.0)"
      ]
     },
     "metadata": {},
     "output_type": "display_data"
    },
    {
     "data": {
      "application/vnd.jupyter.widget-view+json": {
       "model_id": "58a5af0816db44aa9810f498b2988535",
       "version_major": 2,
       "version_minor": 0
      },
      "text/plain": [
       "InstancesProgress()"
      ]
     },
     "metadata": {},
     "output_type": "display_data"
    },
    {
     "data": {
      "application/vnd.jupyter.widget-view+json": {
       "model_id": "57b2cad7856e426ba895b8800c9d61ea",
       "version_major": 2,
       "version_minor": 0
      },
      "text/plain": [
       "HTMLNotifier()"
      ]
     },
     "metadata": {},
     "output_type": "display_data"
    },
    {
     "data": {
      "application/vnd.jupyter.widget-view+json": {
       "model_id": "f54ade63a0e742219d1cf9081435eb35",
       "version_major": 2,
       "version_minor": 0
      },
      "text/plain": [
       "TransientProgressBar(value=0.0)"
      ]
     },
     "metadata": {},
     "output_type": "display_data"
    },
    {
     "data": {
      "application/vnd.jupyter.widget-view+json": {
       "model_id": "5ca41c4e5fef4fdaaa50fc377737063e",
       "version_major": 2,
       "version_minor": 0
      },
      "text/plain": [
       "InstancesProgress()"
      ]
     },
     "metadata": {},
     "output_type": "display_data"
    },
    {
     "data": {
      "application/vnd.jupyter.widget-view+json": {
       "model_id": "772e8a12b3b74761b9feabfb90cea3f0",
       "version_major": 2,
       "version_minor": 0
      },
      "text/plain": [
       "HTMLNotifier()"
      ]
     },
     "metadata": {},
     "output_type": "display_data"
    },
    {
     "data": {
      "application/vnd.jupyter.widget-view+json": {
       "model_id": "4339ea1f08084f3596cda7bfcb99cb08",
       "version_major": 2,
       "version_minor": 0
      },
      "text/plain": [
       "TransientProgressBar(value=0.0)"
      ]
     },
     "metadata": {},
     "output_type": "display_data"
    },
    {
     "data": {
      "application/vnd.jupyter.widget-view+json": {
       "model_id": "5faf787ebe0c4123ab98a104acebfcc8",
       "version_major": 2,
       "version_minor": 0
      },
      "text/plain": [
       "InstancesProgress()"
      ]
     },
     "metadata": {},
     "output_type": "display_data"
    },
    {
     "data": {
      "application/vnd.jupyter.widget-view+json": {
       "model_id": "f49bc50eab4845e7a48eb491780a9cfd",
       "version_major": 2,
       "version_minor": 0
      },
      "text/plain": [
       "HTMLNotifier()"
      ]
     },
     "metadata": {},
     "output_type": "display_data"
    },
    {
     "data": {
      "application/vnd.jupyter.widget-view+json": {
       "model_id": "c54dc517660b4c16addccb12d0fc6f2b",
       "version_major": 2,
       "version_minor": 0
      },
      "text/plain": [
       "TransientProgressBar(value=0.0)"
      ]
     },
     "metadata": {},
     "output_type": "display_data"
    },
    {
     "data": {
      "application/vnd.jupyter.widget-view+json": {
       "model_id": "d4ff8524e8f948cf99656dd4d7e8186e",
       "version_major": 2,
       "version_minor": 0
      },
      "text/plain": [
       "InstancesProgress()"
      ]
     },
     "metadata": {},
     "output_type": "display_data"
    },
    {
     "data": {
      "application/vnd.jupyter.widget-view+json": {
       "model_id": "56b29d9003a348ad9b31636c2c88b110",
       "version_major": 2,
       "version_minor": 0
      },
      "text/plain": [
       "HTMLNotifier()"
      ]
     },
     "metadata": {},
     "output_type": "display_data"
    },
    {
     "data": {
      "image/png": "[encoded data removed]",
      "text/plain": [
       "<Figure size 864x576 with 9 Axes>"
      ]
     },
     "metadata": {
      "needs_background": "light"
     },
     "output_type": "display_data"
    }
   ],
   "source": [
    "fig1, axs = plt.subplots(3, 3, figsize=(12,8), constrained_layout=True)\n",
    "axs = trim_axs(axs, 9)\n",
    "for ax, user_id in zip(axs, users.sample(n=10)):\n",
    "    ax.set_title('user_id=%s' % str(user_id))\n",
    "    user = df[df.user_id==user_id]\n",
    "    user = user.to_pandas()\n",
    "    ax.plot(user.lesson_id, user.times, 'bs', times_pdf.index, times_pdf.times_mean, 'g^')"
   ]
  },
  {
   "cell_type": "code",
   "execution_count": 7,
   "metadata": {},
   "outputs": [
    {
     "data": {
      "text/html": [
       "<div>\n",
       "<style scoped>\n",
       "    .dataframe tbody tr th:only-of-type {\n",
       "        vertical-align: middle;\n",
       "    }\n",
       "\n",
       "    .dataframe tbody tr th {\n",
       "        vertical-align: top;\n",
       "    }\n",
       "\n",
       "    .dataframe thead th {\n",
       "        text-align: right;\n",
       "    }\n",
       "</style>\n",
       "<table border=\"1\" class=\"dataframe\">\n",
       "  <thead>\n",
       "    <tr style=\"text-align: right;\">\n",
       "      <th></th>\n",
       "      <th>times_mean</th>\n",
       "    </tr>\n",
       "  </thead>\n",
       "  <tbody>\n",
       "    <tr>\n",
       "      <th>count</th>\n",
       "      <td>60.000000</td>\n",
       "    </tr>\n",
       "    <tr>\n",
       "      <th>mean</th>\n",
       "      <td>1.259872</td>\n",
       "    </tr>\n",
       "    <tr>\n",
       "      <th>std</th>\n",
       "      <td>0.106451</td>\n",
       "    </tr>\n",
       "    <tr>\n",
       "      <th>min</th>\n",
       "      <td>1.120344</td>\n",
       "    </tr>\n",
       "    <tr>\n",
       "      <th>25%</th>\n",
       "      <td>1.193103</td>\n",
       "    </tr>\n",
       "    <tr>\n",
       "      <th>50%</th>\n",
       "      <td>1.227589</td>\n",
       "    </tr>\n",
       "    <tr>\n",
       "      <th>75%</th>\n",
       "      <td>1.296664</td>\n",
       "    </tr>\n",
       "    <tr>\n",
       "      <th>max</th>\n",
       "      <td>1.706918</td>\n",
       "    </tr>\n",
       "  </tbody>\n",
       "</table>\n",
       "</div>"
      ],
      "text/plain": [
       "       times_mean\n",
       "count   60.000000\n",
       "mean     1.259872\n",
       "std      0.106451\n",
       "min      1.120344\n",
       "25%      1.193103\n",
       "50%      1.227589\n",
       "75%      1.296664\n",
       "max      1.706918"
      ]
     },
     "execution_count": 7,
     "metadata": {},
     "output_type": "execute_result"
    }
   ],
   "source": [
    "times_pdf.describe()"
   ]
  },
  {
   "cell_type": "code",
   "execution_count": 8,
   "metadata": {},
   "outputs": [],
   "source": [
    "def score(user):\n",
    "    return user.max_score * (1.8 - user.times) / (1.8 - 1.12)"
   ]
  },
  {
   "cell_type": "code",
   "execution_count": 11,
   "metadata": {},
   "outputs": [
    {
     "data": {
      "application/vnd.jupyter.widget-view+json": {
       "model_id": "50feeacaa41d4ce994b529e58b65e7fe",
       "version_major": 2,
       "version_minor": 0
      },
      "text/plain": [
       "TransientProgressBar(value=0.0)"
      ]
     },
     "metadata": {},
     "output_type": "display_data"
    },
    {
     "data": {
      "application/vnd.jupyter.widget-view+json": {
       "model_id": "cc84893d924642049e183182e8792218",
       "version_major": 2,
       "version_minor": 0
      },
      "text/plain": [
       "InstancesProgress()"
      ]
     },
     "metadata": {},
     "output_type": "display_data"
    },
    {
     "data": {
      "application/vnd.jupyter.widget-view+json": {
       "model_id": "6cb1a551c93247a6b5c789b3563fc684",
       "version_major": 2,
       "version_minor": 0
      },
      "text/plain": [
       "HTMLNotifier()"
      ]
     },
     "metadata": {},
     "output_type": "display_data"
    },
    {
     "data": {
      "application/vnd.jupyter.widget-view+json": {
       "model_id": "507d2e28c36249f191adcc3fc2b7d54a",
       "version_major": 2,
       "version_minor": 0
      },
      "text/plain": [
       "TransientProgressBar(value=0.0)"
      ]
     },
     "metadata": {},
     "output_type": "display_data"
    },
    {
     "data": {
      "application/vnd.jupyter.widget-view+json": {
       "model_id": "429a31ab9ec44b2abd2ab920ab1d6288",
       "version_major": 2,
       "version_minor": 0
      },
      "text/plain": [
       "InstancesProgress()"
      ]
     },
     "metadata": {},
     "output_type": "display_data"
    },
    {
     "data": {
      "application/vnd.jupyter.widget-view+json": {
       "model_id": "8ef8e024f49b4c54bb53a2e627156490",
       "version_major": 2,
       "version_minor": 0
      },
      "text/plain": [
       "HTMLNotifier()"
      ]
     },
     "metadata": {},
     "output_type": "display_data"
    },
    {
     "data": {
      "application/vnd.jupyter.widget-view+json": {
       "model_id": "96bb82ef67604227bcf0009f91063dba",
       "version_major": 2,
       "version_minor": 0
      },
      "text/plain": [
       "TransientProgressBar(value=0.0)"
      ]
     },
     "metadata": {},
     "output_type": "display_data"
    },
    {
     "data": {
      "application/vnd.jupyter.widget-view+json": {
       "model_id": "d09829390ea5487e916aa361fc369abe",
       "version_major": 2,
       "version_minor": 0
      },
      "text/plain": [
       "InstancesProgress()"
      ]
     },
     "metadata": {},
     "output_type": "display_data"
    },
    {
     "data": {
      "application/vnd.jupyter.widget-view+json": {
       "model_id": "e368041abc8845e5a3f1d4ad26be9c03",
       "version_major": 2,
       "version_minor": 0
      },
      "text/plain": [
       "HTMLNotifier()"
      ]
     },
     "metadata": {},
     "output_type": "display_data"
    },
    {
     "data": {
      "application/vnd.jupyter.widget-view+json": {
       "model_id": "6f6d814b171149f5bf36ffec14ab2174",
       "version_major": 2,
       "version_minor": 0
      },
      "text/plain": [
       "TransientProgressBar(value=0.0)"
      ]
     },
     "metadata": {},
     "output_type": "display_data"
    },
    {
     "data": {
      "application/vnd.jupyter.widget-view+json": {
       "model_id": "1e0d0ef97c394bdbbe450991fef9bf65",
       "version_major": 2,
       "version_minor": 0
      },
      "text/plain": [
       "InstancesProgress()"
      ]
     },
     "metadata": {},
     "output_type": "display_data"
    },
    {
     "data": {
      "application/vnd.jupyter.widget-view+json": {
       "model_id": "983bb85d106e4fd3bb1e22b0ebff998a",
       "version_major": 2,
       "version_minor": 0
      },
      "text/plain": [
       "HTMLNotifier()"
      ]
     },
     "metadata": {},
     "output_type": "display_data"
    },
    {
     "data": {
      "application/vnd.jupyter.widget-view+json": {
       "model_id": "0c1377187352497cb6c7bfd992ea9422",
       "version_major": 2,
       "version_minor": 0
      },
      "text/plain": [
       "TransientProgressBar(value=0.0)"
      ]
     },
     "metadata": {},
     "output_type": "display_data"
    },
    {
     "data": {
      "application/vnd.jupyter.widget-view+json": {
       "model_id": "5af8e0d25eca44f592940520efc48d6e",
       "version_major": 2,
       "version_minor": 0
      },
      "text/plain": [
       "InstancesProgress()"
      ]
     },
     "metadata": {},
     "output_type": "display_data"
    },
    {
     "data": {
      "application/vnd.jupyter.widget-view+json": {
       "model_id": "e5809f9431d448c19f3e84cd17adf07e",
       "version_major": 2,
       "version_minor": 0
      },
      "text/plain": [
       "HTMLNotifier()"
      ]
     },
     "metadata": {},
     "output_type": "display_data"
    },
    {
     "data": {
      "application/vnd.jupyter.widget-view+json": {
       "model_id": "eb91d40dc6ef4d639cadc1692ee8f466",
       "version_major": 2,
       "version_minor": 0
      },
      "text/plain": [
       "TransientProgressBar(value=0.0)"
      ]
     },
     "metadata": {},
     "output_type": "display_data"
    },
    {
     "data": {
      "application/vnd.jupyter.widget-view+json": {
       "model_id": "6dda0ea24cc74e2c9100510bd38fece8",
       "version_major": 2,
       "version_minor": 0
      },
      "text/plain": [
       "InstancesProgress()"
      ]
     },
     "metadata": {},
     "output_type": "display_data"
    },
    {
     "data": {
      "application/vnd.jupyter.widget-view+json": {
       "model_id": "8f26d732dd834c92b28c604062bac738",
       "version_major": 2,
       "version_minor": 0
      },
      "text/plain": [
       "HTMLNotifier()"
      ]
     },
     "metadata": {},
     "output_type": "display_data"
    },
    {
     "data": {
      "application/vnd.jupyter.widget-view+json": {
       "model_id": "edbe474350b741d1851eb36b10e4168f",
       "version_major": 2,
       "version_minor": 0
      },
      "text/plain": [
       "TransientProgressBar(value=0.0)"
      ]
     },
     "metadata": {},
     "output_type": "display_data"
    },
    {
     "data": {
      "application/vnd.jupyter.widget-view+json": {
       "model_id": "c0c02ddcad954b04bddbe0a234a8305c",
       "version_major": 2,
       "version_minor": 0
      },
      "text/plain": [
       "InstancesProgress()"
      ]
     },
     "metadata": {},
     "output_type": "display_data"
    },
    {
     "data": {
      "application/vnd.jupyter.widget-view+json": {
       "model_id": "d5592dccd9394253a4f1c19e69afd274",
       "version_major": 2,
       "version_minor": 0
      },
      "text/plain": [
       "HTMLNotifier()"
      ]
     },
     "metadata": {},
     "output_type": "display_data"
    },
    {
     "data": {
      "application/vnd.jupyter.widget-view+json": {
       "model_id": "9f0ec2d827684a398b8173f97d3faa93",
       "version_major": 2,
       "version_minor": 0
      },
      "text/plain": [
       "TransientProgressBar(value=0.0)"
      ]
     },
     "metadata": {},
     "output_type": "display_data"
    },
    {
     "data": {
      "application/vnd.jupyter.widget-view+json": {
       "model_id": "930944faa7d1440e8521aae7dc70ec57",
       "version_major": 2,
       "version_minor": 0
      },
      "text/plain": [
       "InstancesProgress()"
      ]
     },
     "metadata": {},
     "output_type": "display_data"
    },
    {
     "data": {
      "application/vnd.jupyter.widget-view+json": {
       "model_id": "b22215cdd99f49dc9804112b1e839491",
       "version_major": 2,
       "version_minor": 0
      },
      "text/plain": [
       "HTMLNotifier()"
      ]
     },
     "metadata": {},
     "output_type": "display_data"
    },
    {
     "data": {
      "application/vnd.jupyter.widget-view+json": {
       "model_id": "39fca023b9094483bc25c47d5d66a727",
       "version_major": 2,
       "version_minor": 0
      },
      "text/plain": [
       "TransientProgressBar(value=0.0)"
      ]
     },
     "metadata": {},
     "output_type": "display_data"
    },
    {
     "data": {
      "application/vnd.jupyter.widget-view+json": {
       "model_id": "927a12c6a5814f179ff58a4bec9b681d",
       "version_major": 2,
       "version_minor": 0
      },
      "text/plain": [
       "InstancesProgress()"
      ]
     },
     "metadata": {},
     "output_type": "display_data"
    },
    {
     "data": {
      "application/vnd.jupyter.widget-view+json": {
       "model_id": "47eb3548c620402ebf5d7000a1c133dd",
       "version_major": 2,
       "version_minor": 0
      },
      "text/plain": [
       "HTMLNotifier()"
      ]
     },
     "metadata": {},
     "output_type": "display_data"
    },
    {
     "data": {
      "image/png": "[encoded data removed]",
      "text/plain": [
       "<Figure size 864x576 with 9 Axes>"
      ]
     },
     "metadata": {
      "needs_background": "light"
     },
     "output_type": "display_data"
    }
   ],
   "source": [
    "fig1, axs = plt.subplots(3, 3, figsize=(12,8), constrained_layout=True)\n",
    "axs = trim_axs(axs, 9)\n",
    "for ax, user_id in zip(axs, users.sample(n=10)):\n",
    "    ax.set_title('user_id=%s' % str(user_id))\n",
    "    user = df[df.user_id==user_id]\n",
    "    user = user.to_pandas()\n",
    "    ax.plot(user.lesson_id, score(user) , 'bs', mean_pdf.index, mean_pdf.max_score_mean, 'g^')"
   ]
  },
  {
   "cell_type": "code",
   "execution_count": null,
   "metadata": {},
   "outputs": [],
   "source": []
  }
 ],
 "metadata": {
  "kernelspec": {
   "display_name": "Python 3",
   "language": "python",
   "name": "python3"
  },
  "language_info": {
   "codemirror_mode": {
    "name": "ipython",
    "version": 3
   },
   "file_extension": ".py",
   "mimetype": "text/x-python",
   "name": "python",
   "nbconvert_exporter": "python",
   "pygments_lexer": "ipython3",
   "version": "3.7.1"
  }
 },
 "nbformat": 4,
 "nbformat_minor": 2
}
