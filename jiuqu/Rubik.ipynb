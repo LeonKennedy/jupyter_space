{
 "cells": [
  {
   "cell_type": "markdown",
   "metadata": {},
   "source": [
    "### 资源加载"
   ]
  },
  {
   "cell_type": "code",
   "execution_count": 1,
   "metadata": {},
   "outputs": [],
   "source": [
    "import numpy as np\n",
    "from Lesson import Lesson\n",
    "r = np.load('rubik/r_2018-51.npy')\n",
    "lt = Lesson(True)"
   ]
  },
  {
   "cell_type": "markdown",
   "metadata": {},
   "source": [
    "#### r 就是模型"
   ]
  },
  {
   "cell_type": "code",
   "execution_count": 48,
   "metadata": {},
   "outputs": [
    {
     "data": {
      "text/plain": [
       "(3, 851, 9, 7)"
      ]
     },
     "execution_count": 48,
     "metadata": {},
     "output_type": "execute_result"
    }
   ],
   "source": [
    "r.shape"
   ]
  },
  {
   "cell_type": "markdown",
   "metadata": {},
   "source": [
    "#### 房间总数"
   ]
  },
  {
   "cell_type": "code",
   "execution_count": 49,
   "metadata": {},
   "outputs": [
    {
     "data": {
      "text/plain": [
       "42224.0"
      ]
     },
     "execution_count": 49,
     "metadata": {},
     "output_type": "execute_result"
    }
   ],
   "source": [
    "np.sum(r)"
   ]
  },
  {
   "cell_type": "markdown",
   "metadata": {},
   "source": [
    "#### 总人数"
   ]
  },
  {
   "cell_type": "code",
   "execution_count": 50,
   "metadata": {},
   "outputs": [
    {
     "data": {
      "text/plain": [
       "132003.0"
      ]
     },
     "execution_count": 50,
     "metadata": {},
     "output_type": "execute_result"
    }
   ],
   "source": [
    "np.sum(r[0]) * 4 + np.sum(r[1]) * 2 +  np.sum(r[2])"
   ]
  },
  {
   "cell_type": "markdown",
   "metadata": {},
   "source": [
    "#### 周几  (*)  数据比周几小一"
   ]
  },
  {
   "cell_type": "code",
   "execution_count": 51,
   "metadata": {},
   "outputs": [
    {
     "data": {
      "text/plain": [
       "18689.0"
      ]
     },
     "execution_count": 51,
     "metadata": {},
     "output_type": "execute_result"
    }
   ],
   "source": [
    "day_num = 2 # 2是周三    0是周一   6是周日\n",
    "np.sum(r[0,:,:,day_num]) * 4 + np.sum(r[1,:,:,day_num]) *2 + np.sum(r[2,:,:,day_num])"
   ]
  },
  {
   "cell_type": "markdown",
   "metadata": {},
   "source": [
    "#### 一周分布 room 1v4"
   ]
  },
  {
   "cell_type": "code",
   "execution_count": 52,
   "metadata": {},
   "outputs": [
    {
     "data": {
      "text/plain": [
       "array([[   0.,    0.,    0.,    0.,    0.,  429.,  411.],\n",
       "       [   0.,    0.,    0.,    0.,    0.,  427.,  409.],\n",
       "       [   0.,    0.,    0.,    0.,    0.,  404.,  399.],\n",
       "       [   0.,    0.,    0.,    0.,    0.,  401.,  397.],\n",
       "       [   0.,    0.,    0.,    0.,    0.,  388.,  389.],\n",
       "       [ 771.,  808.,  814.,  818.,  765.,  452.,  403.],\n",
       "       [ 970., 1008.,  977.,  977.,  936.,  580.,  472.],\n",
       "       [1116., 1129., 1097., 1093., 1057.,  728.,  607.],\n",
       "       [ 896.,  945.,  910.,  898.,  876.,  659.,  586.]])"
      ]
     },
     "execution_count": 52,
     "metadata": {},
     "output_type": "execute_result"
    }
   ],
   "source": [
    "np.sum(r[0], axis=0)"
   ]
  },
  {
   "cell_type": "markdown",
   "metadata": {},
   "source": [
    "#### 一周分布room 1v2"
   ]
  },
  {
   "cell_type": "code",
   "execution_count": 53,
   "metadata": {},
   "outputs": [
    {
     "data": {
      "text/plain": [
       "array([[  0.,   0.,   0.,   0.,   0.,  85.,  72.],\n",
       "       [  0.,   0.,   0.,   0.,   0.,  94.,  83.],\n",
       "       [  0.,   0.,   0.,   0.,   0.,  79.,  82.],\n",
       "       [  0.,   0.,   0.,   0.,   0.,  72.,  62.],\n",
       "       [  0.,   0.,   0.,   0.,   0.,  70.,  66.],\n",
       "       [295., 297., 298., 255., 238.,  79.,  83.],\n",
       "       [334., 331., 311., 285., 269., 110.,  81.],\n",
       "       [361., 350., 314., 306., 275., 147., 101.],\n",
       "       [314., 331., 290., 277., 267., 109., 100.]])"
      ]
     },
     "execution_count": 53,
     "metadata": {},
     "output_type": "execute_result"
    }
   ],
   "source": [
    "np.sum(r[1], axis=0)"
   ]
  },
  {
   "cell_type": "markdown",
   "metadata": {},
   "source": [
    "#### 一周分布room 1v1"
   ]
  },
  {
   "cell_type": "code",
   "execution_count": 54,
   "metadata": {},
   "outputs": [
    {
     "data": {
      "text/plain": [
       "array([[  0.,   0.,   0.,   0.,   0., 101., 101.],\n",
       "       [  0.,   0.,   0.,   0.,   0., 100.,  90.],\n",
       "       [  0.,   0.,   0.,   0.,   0.,  99.,  96.],\n",
       "       [  0.,   0.,   0.,   0.,   0., 105.,  94.],\n",
       "       [  0.,   0.,   0.,   0.,   0.,  87.,  95.],\n",
       "       [241., 258., 243., 234., 208.,  94.,  89.],\n",
       "       [274., 281., 271., 246., 237., 137., 121.],\n",
       "       [300., 302., 292., 279., 256., 184., 142.],\n",
       "       [275., 277., 265., 249., 234., 154., 138.]])"
      ]
     },
     "execution_count": 54,
     "metadata": {},
     "output_type": "execute_result"
    }
   ],
   "source": [
    "np.sum(r[2], axis=0)"
   ]
  },
  {
   "cell_type": "code",
   "execution_count": 10,
   "metadata": {},
   "outputs": [],
   "source": [
    "a = [[0,0,0,0,0,1,1],[0,0,0,0,0,1,1],[0,0,0,0,0,1,1],[0,0,0,0,0,1,1],[0,0,0,0,0,1,1],\n",
    "     [1,1,1,1,1,1,1],[2,2,2,1,1,1,1],[2,2,2,1,1,1,1],[1,1,1,1,1,1,1]]\n",
    "b = np.array(a)"
   ]
  },
  {
   "cell_type": "code",
   "execution_count": 11,
   "metadata": {},
   "outputs": [],
   "source": [
    "c = [[0,0,0,0,0,1,1],[0,0,0,0,0,4,4],[0,0,0,0,0,3,3],[0,0,0,0,0,3,3],[0,0,0,0,0,3,3],\n",
    "     [4,4,4,4,4,4,4],[5,5,5,5,5,5,5],[6,6,6,6,6,6,6],[3,3,3,3,3,3,3]]\n",
    "c = np.array(c)"
   ]
  },
  {
   "cell_type": "code",
   "execution_count": 42,
   "metadata": {},
   "outputs": [],
   "source": [
    "r[0,10] = (r[0,10]/2).round()"
   ]
  },
  {
   "cell_type": "code",
   "execution_count": 47,
   "metadata": {},
   "outputs": [
    {
     "data": {
      "text/plain": [
       "array([[ 0.,  0.,  0.,  0.,  0.,  4.,  4.],\n",
       "       [ 0.,  0.,  0.,  0.,  0.,  5.,  4.],\n",
       "       [ 0.,  0.,  0.,  0.,  0.,  4.,  4.],\n",
       "       [ 0.,  0.,  0.,  0.,  0.,  4.,  4.],\n",
       "       [ 0.,  0.,  0.,  0.,  0.,  4.,  3.],\n",
       "       [ 6.,  7.,  7.,  8.,  7.,  4.,  4.],\n",
       "       [10., 10., 10., 10.,  9.,  6.,  5.],\n",
       "       [11., 12., 10., 10., 10.,  8.,  7.],\n",
       "       [ 8.,  9.,  9.,  8.,  8.,  8.,  6.]])"
      ]
     },
     "execution_count": 47,
     "metadata": {},
     "output_type": "execute_result"
    }
   ],
   "source": [
    "r[0,10]"
   ]
  },
  {
   "cell_type": "markdown",
   "metadata": {},
   "source": [
    "#### 一周人数分布"
   ]
  },
  {
   "cell_type": "code",
   "execution_count": 12,
   "metadata": {},
   "outputs": [
    {
     "data": {
      "text/plain": [
       "array([[   0.,    0.,    0.,    0.,    0., 2078., 2097.],\n",
       "       [   0.,    0.,    0.,    0.,    0., 2072., 2208.],\n",
       "       [   0.,    0.,    0.,    0.,    0., 2029., 2204.],\n",
       "       [   0.,    0.,    0.,    0.,    0., 1901., 2031.],\n",
       "       [   0.,    0.,    0.,    0.,    0., 1901., 2000.],\n",
       "       [4673., 4811., 4446., 4325., 3938., 2453., 2040.],\n",
       "       [5577., 5724., 5213., 5245., 4824., 3449., 2657.],\n",
       "       [6342., 6650., 6144., 6039., 5757., 4152., 3628.],\n",
       "       [4892., 5475., 4591., 4551., 4983., 4182., 4256.]])"
      ]
     },
     "execution_count": 12,
     "metadata": {},
     "output_type": "execute_result"
    }
   ],
   "source": [
    "np.sum(r[1], axis=0) * 2 + np.sum(r[0], axis=0) * 4 + np.sum(r[2], axis=0)"
   ]
  },
  {
   "cell_type": "code",
   "execution_count": 13,
   "metadata": {},
   "outputs": [],
   "source": [
    "def getLesson(course, lesson, r):\n",
    "    lesson_id = lt.getLesson(course, lesson)\n",
    "    print('lesson id: %d' % lesson_id)\n",
    "    print('---  总数 %d ---' % np.sum(r[0][lesson_id] + r[1][lesson_id] + r[2][lesson_id]))\n",
    "    print(r[0][lesson_id] + r[1][lesson_id])\n",
    "    print('--- 4人班 %d ---' % np.sum(r[0][lesson_id]))\n",
    "    print(r[0][lesson_id])\n",
    "    print('--- 2人班 %d ---' % np.sum(r[1][lesson_id]))\n",
    "    print(r[1][lesson_id])"
   ]
  },
  {
   "cell_type": "markdown",
   "metadata": {},
   "source": [
    "#### 查看任意课程需要房间数\n",
    " + 查看L7_3 \n",
    " + 修改如下 course, lesson=(7,3) \n",
    " + 只需要修改括号中的数字"
   ]
  },
  {
   "cell_type": "code",
   "execution_count": 14,
   "metadata": {
    "scrolled": true
   },
   "outputs": [
    {
     "ename": "NameError",
     "evalue": "name 'course_id' is not defined",
     "output_type": "error",
     "traceback": [
      "\u001b[0;31m---------------------------------------------------------------------------\u001b[0m",
      "\u001b[0;31mNameError\u001b[0m                                 Traceback (most recent call last)",
      "\u001b[0;32m<ipython-input-14-8e37608695f3>\u001b[0m in \u001b[0;36m<module>\u001b[0;34m()\u001b[0m\n\u001b[1;32m      1\u001b[0m \u001b[0mcourse\u001b[0m\u001b[0;34m,\u001b[0m \u001b[0mlesson\u001b[0m \u001b[0;34m=\u001b[0m\u001b[0;36m15\u001b[0m\u001b[0;34m,\u001b[0m \u001b[0;36m1\u001b[0m\u001b[0;34m\u001b[0m\u001b[0m\n\u001b[0;32m----> 2\u001b[0;31m \u001b[0mgetLesson\u001b[0m\u001b[0;34m(\u001b[0m\u001b[0mcourse\u001b[0m\u001b[0;34m,\u001b[0m \u001b[0mlesson\u001b[0m\u001b[0;34m,\u001b[0m \u001b[0mr\u001b[0m\u001b[0;34m)\u001b[0m\u001b[0;34m\u001b[0m\u001b[0m\n\u001b[0m",
      "\u001b[0;32m<ipython-input-13-d2d2da12addd>\u001b[0m in \u001b[0;36mgetLesson\u001b[0;34m(course, lesson, r)\u001b[0m\n\u001b[1;32m      1\u001b[0m \u001b[0;32mdef\u001b[0m \u001b[0mgetLesson\u001b[0m\u001b[0;34m(\u001b[0m\u001b[0mcourse\u001b[0m\u001b[0;34m,\u001b[0m \u001b[0mlesson\u001b[0m\u001b[0;34m,\u001b[0m \u001b[0mr\u001b[0m\u001b[0;34m)\u001b[0m\u001b[0;34m:\u001b[0m\u001b[0;34m\u001b[0m\u001b[0m\n\u001b[0;32m----> 2\u001b[0;31m     \u001b[0mlesson_id\u001b[0m \u001b[0;34m=\u001b[0m \u001b[0mlt\u001b[0m\u001b[0;34m.\u001b[0m\u001b[0mgetLesson\u001b[0m\u001b[0;34m(\u001b[0m\u001b[0mcourse\u001b[0m\u001b[0;34m,\u001b[0m \u001b[0mlesson\u001b[0m\u001b[0;34m)\u001b[0m\u001b[0;34m\u001b[0m\u001b[0m\n\u001b[0m\u001b[1;32m      3\u001b[0m     \u001b[0mprint\u001b[0m\u001b[0;34m(\u001b[0m\u001b[0;34m'lesson id: %d'\u001b[0m \u001b[0;34m%\u001b[0m \u001b[0mlesson_id\u001b[0m\u001b[0;34m)\u001b[0m\u001b[0;34m\u001b[0m\u001b[0m\n\u001b[1;32m      4\u001b[0m     \u001b[0mprint\u001b[0m\u001b[0;34m(\u001b[0m\u001b[0;34m'---  总数 %d ---'\u001b[0m \u001b[0;34m%\u001b[0m \u001b[0mnp\u001b[0m\u001b[0;34m.\u001b[0m\u001b[0msum\u001b[0m\u001b[0;34m(\u001b[0m\u001b[0mr\u001b[0m\u001b[0;34m[\u001b[0m\u001b[0;36m0\u001b[0m\u001b[0;34m]\u001b[0m\u001b[0;34m[\u001b[0m\u001b[0mlesson_id\u001b[0m\u001b[0;34m]\u001b[0m \u001b[0;34m+\u001b[0m \u001b[0mr\u001b[0m\u001b[0;34m[\u001b[0m\u001b[0;36m1\u001b[0m\u001b[0;34m]\u001b[0m\u001b[0;34m[\u001b[0m\u001b[0mlesson_id\u001b[0m\u001b[0;34m]\u001b[0m \u001b[0;34m+\u001b[0m \u001b[0mr\u001b[0m\u001b[0;34m[\u001b[0m\u001b[0;36m2\u001b[0m\u001b[0;34m]\u001b[0m\u001b[0;34m[\u001b[0m\u001b[0mlesson_id\u001b[0m\u001b[0;34m]\u001b[0m\u001b[0;34m)\u001b[0m\u001b[0;34m)\u001b[0m\u001b[0;34m\u001b[0m\u001b[0m\n\u001b[1;32m      5\u001b[0m     \u001b[0mprint\u001b[0m\u001b[0;34m(\u001b[0m\u001b[0mr\u001b[0m\u001b[0;34m[\u001b[0m\u001b[0;36m0\u001b[0m\u001b[0;34m]\u001b[0m\u001b[0;34m[\u001b[0m\u001b[0mlesson_id\u001b[0m\u001b[0;34m]\u001b[0m \u001b[0;34m+\u001b[0m \u001b[0mr\u001b[0m\u001b[0;34m[\u001b[0m\u001b[0;36m1\u001b[0m\u001b[0;34m]\u001b[0m\u001b[0;34m[\u001b[0m\u001b[0mlesson_id\u001b[0m\u001b[0;34m]\u001b[0m\u001b[0;34m)\u001b[0m\u001b[0;34m\u001b[0m\u001b[0m\n",
      "\u001b[0;32m~/Intelligent_arranging_class_system/Lesson.py\u001b[0m in \u001b[0;36mgetLesson\u001b[0;34m(self, course, lesson)\u001b[0m\n\u001b[1;32m     49\u001b[0m     \u001b[0;31m# for teaching assistant\u001b[0m\u001b[0;34m\u001b[0m\u001b[0;34m\u001b[0m\u001b[0m\n\u001b[1;32m     50\u001b[0m     \u001b[0;32mdef\u001b[0m \u001b[0mgetLesson\u001b[0m\u001b[0;34m(\u001b[0m\u001b[0mself\u001b[0m\u001b[0;34m,\u001b[0m \u001b[0mcourse\u001b[0m\u001b[0;34m,\u001b[0m \u001b[0mlesson\u001b[0m\u001b[0;34m)\u001b[0m\u001b[0;34m:\u001b[0m\u001b[0;34m\u001b[0m\u001b[0m\n\u001b[0;32m---> 51\u001b[0;31m         \u001b[0ma\u001b[0m \u001b[0;34m=\u001b[0m \u001b[0mself\u001b[0m\u001b[0;34m.\u001b[0m\u001b[0m_lessons\u001b[0m\u001b[0;34m[\u001b[0m\u001b[0;34m'course_id'\u001b[0m\u001b[0;34m]\u001b[0m \u001b[0;34m==\u001b[0m \u001b[0mcourse_id\u001b[0m\u001b[0;34m\u001b[0m\u001b[0m\n\u001b[0m\u001b[1;32m     52\u001b[0m         \u001b[0mb\u001b[0m \u001b[0;34m=\u001b[0m \u001b[0mself\u001b[0m\u001b[0;34m.\u001b[0m\u001b[0m_lessons\u001b[0m\u001b[0;34m[\u001b[0m\u001b[0;34m'lesson_name'\u001b[0m\u001b[0;34m]\u001b[0m \u001b[0;34m==\u001b[0m \u001b[0mstr\u001b[0m\u001b[0;34m(\u001b[0m\u001b[0mlesson\u001b[0m\u001b[0;34m)\u001b[0m\u001b[0;34m\u001b[0m\u001b[0m\n\u001b[1;32m     53\u001b[0m         \u001b[0mc\u001b[0m \u001b[0;34m=\u001b[0m \u001b[0mself\u001b[0m\u001b[0;34m.\u001b[0m\u001b[0m_lessons\u001b[0m\u001b[0;34m[\u001b[0m\u001b[0ma\u001b[0m \u001b[0;34m&\u001b[0m \u001b[0mb\u001b[0m\u001b[0;34m]\u001b[0m\u001b[0;34m.\u001b[0m\u001b[0mindex\u001b[0m\u001b[0;34m.\u001b[0m\u001b[0mtolist\u001b[0m\u001b[0;34m(\u001b[0m\u001b[0;34m)\u001b[0m\u001b[0;34m\u001b[0m\u001b[0m\n",
      "\u001b[0;31mNameError\u001b[0m: name 'course_id' is not defined"
     ]
    }
   ],
   "source": [
    "course, lesson =15, 1\n",
    "getLesson(course, lesson, r)"
   ]
  },
  {
   "cell_type": "markdown",
   "metadata": {
    "collapsed": true
   },
   "source": [
    "#### Lesson ID 转课程名称"
   ]
  },
  {
   "cell_type": "code",
   "execution_count": null,
   "metadata": {},
   "outputs": [],
   "source": [
    "lesson_id = 227\n",
    "lt.get_course_lesson_name(lesson_id)"
   ]
  },
  {
   "cell_type": "markdown",
   "metadata": {},
   "source": [
    "#### 删除某些课"
   ]
  },
  {
   "cell_type": "code",
   "execution_count": null,
   "metadata": {},
   "outputs": [],
   "source": [
    "def removeRooms(r, indexs):\n",
    "    for r4 in r[0]:\n",
    "        for index in indexs:\n",
    "            r4[index[0], index[1]] = 0\n",
    "    for r4 in r[1]:\n",
    "        for index in indexs:\n",
    "            r4[index[0], index[1]] = 0"
   ]
  }
 ],
 "metadata": {
  "kernelspec": {
   "display_name": "Python 3",
   "language": "python",
   "name": "python3"
  },
  "language_info": {
   "codemirror_mode": {
    "name": "ipython",
    "version": 3
   },
   "file_extension": ".py",
   "mimetype": "text/x-python",
   "name": "python",
   "nbconvert_exporter": "python",
   "pygments_lexer": "ipython3",
   "version": "3.6.4"
  }
 },
 "nbformat": 4,
 "nbformat_minor": 2
}
