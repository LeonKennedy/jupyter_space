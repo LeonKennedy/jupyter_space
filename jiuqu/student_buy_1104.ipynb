{
 "cells": [
  {
   "cell_type": "markdown",
   "metadata": {},
   "source": [
    "### 需求：\n",
    "2019.9.1-2019.11.30 报名1104（订单编号）课包的用户，多长时间后用户状态变更为vip，成为vip时上过几次课？\n",
    "从大数据的角度看，目前我们的团队效率如何，同时以此数据给销售做一个参考。用户在多长时间内转化是比较合理的。"
   ]
  },
  {
   "cell_type": "code",
   "execution_count": 1,
   "metadata": {},
   "outputs": [],
   "source": [
    "from odps import ODPS, options\n",
    "from odps.df import agg\n",
    "import pandas as pd\n",
    "import matplotlib.pyplot as plt\n",
    "import numpy as np\n",
    "options.sql.use_odps2_extension = True\n",
    "odps = ODPS('LTAItDVDpC9aEMXJ', 'U6iEFCZCzoPUbjou1FW45SQruxIfFt', 'Qkids_V2_dev')"
   ]
  },
  {
   "cell_type": "code",
   "execution_count": 4,
   "metadata": {},
   "outputs": [
    {
     "data": {
      "application/vnd.jupyter.widget-view+json": {
       "model_id": "5c9dc32ce07b48b7a93e2ddfedf75260",
       "version_major": 2,
       "version_minor": 0
      },
      "text/plain": [
       "TransientProgressBar(value=0.0)"
      ]
     },
     "metadata": {},
     "output_type": "display_data"
    },
    {
     "data": {
      "application/vnd.jupyter.widget-view+json": {
       "model_id": "ac10d8f3a9a540b0af0a8b5dc4599ec9",
       "version_major": 2,
       "version_minor": 0
      },
      "text/plain": [
       "InstancesProgress()"
      ]
     },
     "metadata": {},
     "output_type": "display_data"
    },
    {
     "data": {
      "application/vnd.jupyter.widget-view+json": {
       "model_id": "8a3afd3c470646b0a3ef834318744fa7",
       "version_major": 2,
       "version_minor": 0
      },
      "text/plain": [
       "HTMLNotifier()"
      ]
     },
     "metadata": {},
     "output_type": "display_data"
    }
   ],
   "source": [
    "buy_1104_students = odps.get_table(\"t_student_buy_1104\").to_df().to_pandas()"
   ]
  },
  {
   "cell_type": "code",
   "execution_count": 5,
   "metadata": {},
   "outputs": [
    {
     "data": {
      "text/plain": [
       "71406"
      ]
     },
     "execution_count": 5,
     "metadata": {},
     "output_type": "execute_result"
    }
   ],
   "source": [
    "len(buy_1104_students)"
   ]
  },
  {
   "cell_type": "markdown",
   "metadata": {},
   "source": [
    "在2019.9.1-2019.11.30购买1104的用户人数为: 71406人"
   ]
  },
  {
   "cell_type": "code",
   "execution_count": 6,
   "metadata": {},
   "outputs": [
    {
     "data": {
      "text/plain": [
       "71049"
      ]
     },
     "execution_count": 6,
     "metadata": {},
     "output_type": "execute_result"
    }
   ],
   "source": [
    "students = buy_1104_students.loc[(buy_1104_students.min_large_product_id.isna()) | (buy_1104_students.min_large_paid_at > buy_1104_students.min_small_paid_at)]\n",
    "all_num = len(students)\n",
    "all_num"
   ]
  },
  {
   "cell_type": "markdown",
   "metadata": {},
   "source": [
    "去除了已经是购买大单的用户后: 71049"
   ]
  },
  {
   "cell_type": "code",
   "execution_count": 7,
   "metadata": {},
   "outputs": [
    {
     "name": "stdout",
     "output_type": "stream",
     "text": [
      "其中购买大单的用户: 12112人， 未购买为: 58937人。 转化率为: 0.17\n"
     ]
    }
   ],
   "source": [
    "tmp1 = students.min_large_paid_at.isna().sum()\n",
    "tmp2 = all_num - tmp1\n",
    "tmp_rate = round(tmp2 / all_num, 2)\n",
    "print(f\"其中购买大单的用户: {tmp2}人， 未购买为: {tmp1}人。 转化率为: {tmp_rate}\")"
   ]
  },
  {
   "cell_type": "code",
   "execution_count": 8,
   "metadata": {},
   "outputs": [],
   "source": [
    "big_students = students.loc[~students.min_large_product_id.isna()]\n",
    "new_bit_students = big_students.set_index('student_id')"
   ]
  },
  {
   "cell_type": "code",
   "execution_count": 9,
   "metadata": {},
   "outputs": [
    {
     "data": {
      "text/plain": [
       "count    12112.000000\n",
       "mean        16.633256\n",
       "std         14.772284\n",
       "min          0.000000\n",
       "25%          6.000000\n",
       "50%         12.000000\n",
       "75%         22.000000\n",
       "max         95.000000\n",
       "dtype: float64"
      ]
     },
     "execution_count": 9,
     "metadata": {},
     "output_type": "execute_result"
    }
   ],
   "source": [
    "day_interval = new_bit_students.min_large_paid_at - new_bit_students.min_small_paid_at\n",
    "c = day_interval.apply(lambda x: round(x.total_seconds()/3600/24))\n",
    "vc = c.value_counts()\n",
    "c.describe()"
   ]
  },
  {
   "cell_type": "markdown",
   "metadata": {},
   "source": [
    "购买了大单的用户平均转化时间是16.63天"
   ]
  },
  {
   "cell_type": "code",
   "execution_count": 10,
   "metadata": {},
   "outputs": [
    {
     "data": {
      "text/plain": [
       "<BarContainer object of 94 artists>"
      ]
     },
     "execution_count": 10,
     "metadata": {},
     "output_type": "execute_result"
    },
    {
     "data": {
      "image/png": "[encoded data removed]",
      "text/plain": [
       "<Figure size 1296x864 with 1 Axes>"
      ]
     },
     "metadata": {
      "needs_background": "light"
     },
     "output_type": "display_data"
    }
   ],
   "source": [
    "f = plt.figure(figsize=(18,12))\n",
    "# plt.title(\"用户购买大单转化时间图---x轴是转化天数，y轴是x天妆化的人数\")\n",
    "plt.bar(vc.index, vc.values)"
   ]
  },
  {
   "cell_type": "markdown",
   "metadata": {},
   "source": [
    "用户购买大单转化时间图---x轴是转化天数，y轴是x天妆化的人数"
   ]
  },
  {
   "cell_type": "code",
   "execution_count": 73,
   "metadata": {},
   "outputs": [
    {
     "data": {
      "text/plain": [
       "6             NaN\n",
       "7             NaN\n",
       "8             NaN\n",
       "4             NaN\n",
       "9             NaN\n",
       "         ...     \n",
       "95    (0.0, 10.0]\n",
       "89    (0.0, 10.0]\n",
       "91    (0.0, 10.0]\n",
       "84    (0.0, 10.0]\n",
       "92    (0.0, 10.0]\n",
       "Length: 94, dtype: category\n",
       "Categories (4, interval[int64]): [(0, 10] < (10, 15] < (15, 30] < (30, 60]]"
      ]
     },
     "execution_count": 73,
     "metadata": {},
     "output_type": "execute_result"
    }
   ],
   "source": [
    "pd.cut(vc, [1,10,16,30,60])"
   ]
  },
  {
   "cell_type": "markdown",
   "metadata": {},
   "source": [
    "--- "
   ]
  },
  {
   "cell_type": "markdown",
   "metadata": {},
   "source": [
    "天数频率分桶 数\n",
    "+ 1-10 \n",
    "+ 11-15\n",
    "+ 16-30\n",
    "+ 31-60"
   ]
  },
  {
   "cell_type": "code",
   "execution_count": 15,
   "metadata": {},
   "outputs": [
    {
     "data": {
      "text/plain": [
       "(0, 10]     5087\n",
       "(15, 30]    2951\n",
       "(10, 15]    2112\n",
       "(30, 60]    1445\n",
       "dtype: int64"
      ]
     },
     "execution_count": 15,
     "metadata": {},
     "output_type": "execute_result"
    }
   ],
   "source": [
    "pd.cut(c, [0,10,15,30,60]).value_counts() "
   ]
  },
  {
   "cell_type": "markdown",
   "metadata": {},
   "source": [
    "天数频率分桶 比例"
   ]
  },
  {
   "cell_type": "code",
   "execution_count": 19,
   "metadata": {},
   "outputs": [
    {
     "data": {
      "text/plain": [
       "(0, 10]     0.419997\n",
       "(15, 30]    0.243643\n",
       "(10, 15]    0.174373\n",
       "(30, 60]    0.119303\n",
       "dtype: float64"
      ]
     },
     "execution_count": 19,
     "metadata": {},
     "output_type": "execute_result"
    }
   ],
   "source": [
    "pd.cut(c, [0,10,15,30,60]).value_counts() / len(c)"
   ]
  },
  {
   "cell_type": "markdown",
   "metadata": {},
   "source": [
    "##### 当天购买人数 228人"
   ]
  },
  {
   "cell_type": "code",
   "execution_count": 20,
   "metadata": {},
   "outputs": [
    {
     "data": {
      "text/plain": [
       "228"
      ]
     },
     "execution_count": 20,
     "metadata": {},
     "output_type": "execute_result"
    }
   ],
   "source": [
    "(c ==0).sum()"
   ]
  }
 ],
 "metadata": {
  "kernelspec": {
   "display_name": "Python 3",
   "language": "python",
   "name": "python3"
  },
  "language_info": {
   "codemirror_mode": {
    "name": "ipython",
    "version": 3
   },
   "file_extension": ".py",
   "mimetype": "text/x-python",
   "name": "python",
   "nbconvert_exporter": "python",
   "pygments_lexer": "ipython3",
   "version": "3.7.7"
  }
 },
 "nbformat": 4,
 "nbformat_minor": 4
}
